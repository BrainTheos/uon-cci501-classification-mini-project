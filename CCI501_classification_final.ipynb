{
 "cells": [
  {
   "cell_type": "code",
   "execution_count": 1,
   "id": "34bf0cda-9f09-48a7-b1ec-ce0d82c32d58",
   "metadata": {},
   "outputs": [],
   "source": [
    "%matplotlib inline\n",
    "import matplotlib\n",
    "import matplotlib.pyplot as plt\n",
    "import seaborn as sns\n",
    "\n",
    "# Preprocessing\n",
    "import pandas as pd\n",
    "import numpy as np\n",
    "import re\n",
    "\n",
    "#Text representation and transformation\n",
    "from sklearn.feature_extraction.text import TfidfVectorizer\n",
    "from nltk.corpus import stopwords\n",
    "stop_words = set(stopwords.words('english'))\n",
    "from sklearn.pipeline import Pipeline\n",
    "from sklearn.pipeline import make_pipeline\n",
    "from sklearn.preprocessing import StandardScaler\n",
    "\n",
    "from sklearn.model_selection import GridSearchCV\n",
    "\n",
    "#Validation\n",
    "from sklearn.model_selection import train_test_split\n",
    "\n",
    "# classifiers algorithms\n",
    "from sklearn.naive_bayes import MultinomialNB\n",
    "from sklearn.multiclass import OneVsRestClassifier\n",
    "from sklearn.ensemble import RandomForestClassifier\n",
    "from sklearn.linear_model import LogisticRegression\n",
    "from sklearn.neighbors import KNeighborsClassifier\n",
    "from sklearn.tree import DecisionTreeClassifier\n",
    "\n",
    "# Evaluation metrics\n",
    "from sklearn.metrics import accuracy_score, f1_score, confusion_matrix, ConfusionMatrixDisplay\n",
    "from sklearn.metrics import classification_report\n",
    "\n",
    "import warnings\n",
    "warnings.filterwarnings('ignore')"
   ]
  },
  {
   "cell_type": "markdown",
   "id": "ce36be4a-3745-44a7-8df7-36762869d371",
   "metadata": {},
   "source": [
    "### 1. EDA"
   ]
  },
  {
   "cell_type": "code",
   "execution_count": 2,
   "id": "b54cba03-3c1c-4f1b-96b9-dfd3966fc5e7",
   "metadata": {},
   "outputs": [
    {
     "data": {
      "text/html": [
       "<div>\n",
       "<style scoped>\n",
       "    .dataframe tbody tr th:only-of-type {\n",
       "        vertical-align: middle;\n",
       "    }\n",
       "\n",
       "    .dataframe tbody tr th {\n",
       "        vertical-align: top;\n",
       "    }\n",
       "\n",
       "    .dataframe thead th {\n",
       "        text-align: right;\n",
       "    }\n",
       "</style>\n",
       "<table border=\"1\" class=\"dataframe\">\n",
       "  <thead>\n",
       "    <tr style=\"text-align: right;\">\n",
       "      <th></th>\n",
       "      <th>comment_text</th>\n",
       "      <th>id</th>\n",
       "      <th>identity_hate</th>\n",
       "      <th>insult</th>\n",
       "      <th>obscene</th>\n",
       "      <th>set</th>\n",
       "      <th>severe_toxic</th>\n",
       "      <th>threat</th>\n",
       "      <th>toxic</th>\n",
       "      <th>toxicity</th>\n",
       "    </tr>\n",
       "  </thead>\n",
       "  <tbody>\n",
       "    <tr>\n",
       "      <th>0</th>\n",
       "      <td>explanation why the edits made under my userna...</td>\n",
       "      <td>0000997932d777bf</td>\n",
       "      <td>0.0</td>\n",
       "      <td>0.0</td>\n",
       "      <td>0.0</td>\n",
       "      <td>train</td>\n",
       "      <td>0.0</td>\n",
       "      <td>0.0</td>\n",
       "      <td>0.0</td>\n",
       "      <td>0.0</td>\n",
       "    </tr>\n",
       "    <tr>\n",
       "      <th>1</th>\n",
       "      <td>d aww  he matches this background colour i m s...</td>\n",
       "      <td>000103f0d9cfb60f</td>\n",
       "      <td>0.0</td>\n",
       "      <td>0.0</td>\n",
       "      <td>0.0</td>\n",
       "      <td>train</td>\n",
       "      <td>0.0</td>\n",
       "      <td>0.0</td>\n",
       "      <td>0.0</td>\n",
       "      <td>0.0</td>\n",
       "    </tr>\n",
       "    <tr>\n",
       "      <th>2</th>\n",
       "      <td>hey man  i m really not trying to edit war  it...</td>\n",
       "      <td>000113f07ec002fd</td>\n",
       "      <td>0.0</td>\n",
       "      <td>0.0</td>\n",
       "      <td>0.0</td>\n",
       "      <td>train</td>\n",
       "      <td>0.0</td>\n",
       "      <td>0.0</td>\n",
       "      <td>0.0</td>\n",
       "      <td>0.0</td>\n",
       "    </tr>\n",
       "    <tr>\n",
       "      <th>3</th>\n",
       "      <td>more i can t make any real suggestions on im...</td>\n",
       "      <td>0001b41b1c6bb37e</td>\n",
       "      <td>0.0</td>\n",
       "      <td>0.0</td>\n",
       "      <td>0.0</td>\n",
       "      <td>train</td>\n",
       "      <td>0.0</td>\n",
       "      <td>0.0</td>\n",
       "      <td>0.0</td>\n",
       "      <td>0.0</td>\n",
       "    </tr>\n",
       "    <tr>\n",
       "      <th>4</th>\n",
       "      <td>you  sir  are my hero  any chance you remember...</td>\n",
       "      <td>0001d958c54c6e35</td>\n",
       "      <td>0.0</td>\n",
       "      <td>0.0</td>\n",
       "      <td>0.0</td>\n",
       "      <td>train</td>\n",
       "      <td>0.0</td>\n",
       "      <td>0.0</td>\n",
       "      <td>0.0</td>\n",
       "      <td>0.0</td>\n",
       "    </tr>\n",
       "  </tbody>\n",
       "</table>\n",
       "</div>"
      ],
      "text/plain": [
       "                                        comment_text                id  \\\n",
       "0  explanation why the edits made under my userna...  0000997932d777bf   \n",
       "1  d aww  he matches this background colour i m s...  000103f0d9cfb60f   \n",
       "2  hey man  i m really not trying to edit war  it...  000113f07ec002fd   \n",
       "3    more i can t make any real suggestions on im...  0001b41b1c6bb37e   \n",
       "4  you  sir  are my hero  any chance you remember...  0001d958c54c6e35   \n",
       "\n",
       "   identity_hate  insult  obscene    set  severe_toxic  threat  toxic  \\\n",
       "0            0.0     0.0      0.0  train           0.0     0.0    0.0   \n",
       "1            0.0     0.0      0.0  train           0.0     0.0    0.0   \n",
       "2            0.0     0.0      0.0  train           0.0     0.0    0.0   \n",
       "3            0.0     0.0      0.0  train           0.0     0.0    0.0   \n",
       "4            0.0     0.0      0.0  train           0.0     0.0    0.0   \n",
       "\n",
       "   toxicity  \n",
       "0       0.0  \n",
       "1       0.0  \n",
       "2       0.0  \n",
       "3       0.0  \n",
       "4       0.0  "
      ]
     },
     "execution_count": 2,
     "metadata": {},
     "output_type": "execute_result"
    }
   ],
   "source": [
    "# Load the train and test datasets\n",
    "df = pd.read_csv(\"Dataset/train_preprocessed.csv\")\n",
    "df_test = pd.read_csv(\"Dataset/test_preprocessed.csv\")\n",
    "df.head()"
   ]
  },
  {
   "cell_type": "code",
   "execution_count": 3,
   "id": "1f2825e1-6e60-47a2-b135-c7012ad516d3",
   "metadata": {},
   "outputs": [
    {
     "data": {
      "text/plain": [
       "(159571, 10)"
      ]
     },
     "execution_count": 3,
     "metadata": {},
     "output_type": "execute_result"
    }
   ],
   "source": [
    "df.shape"
   ]
  },
  {
   "cell_type": "code",
   "execution_count": 4,
   "id": "d7a988e7-a0c8-420b-9d3c-e839d11e72cf",
   "metadata": {},
   "outputs": [
    {
     "data": {
      "text/plain": [
       "(153164, 10)"
      ]
     },
     "execution_count": 4,
     "metadata": {},
     "output_type": "execute_result"
    }
   ],
   "source": [
    "df_test.shape"
   ]
  },
  {
   "cell_type": "code",
   "execution_count": 5,
   "id": "42546d49-89c3-4e27-a402-10f505491483",
   "metadata": {},
   "outputs": [],
   "source": [
    "df = df.drop(['id','set','toxicity'], axis=1)\n",
    "labels = list(df.columns)\n",
    "labels.remove('comment_text')"
   ]
  },
  {
   "cell_type": "code",
   "execution_count": 6,
   "id": "cbf88e75-d071-430e-b419-d03f508d7bed",
   "metadata": {},
   "outputs": [
    {
     "data": {
      "image/png": "[encoded data removed]",
      "text/plain": [
       "<Figure size 432x288 with 1 Axes>"
      ]
     },
     "metadata": {
      "needs_background": "light"
     },
     "output_type": "display_data"
    }
   ],
   "source": [
    "ax = df[labels].sum(axis=0).plot(kind='bar', title='# comments per label');\n",
    "for p in ax.patches:\n",
    "    ax.annotate(str(int(p.get_height())), (p.get_x() * 1.01, p.get_height() * 1.001))"
   ]
  },
  {
   "cell_type": "code",
   "execution_count": 7,
   "id": "78212727-952e-4175-ae23-8215b3288ab7",
   "metadata": {},
   "outputs": [
    {
     "data": {
      "text/plain": [
       "Text(0.5, 0, '# of categories')"
      ]
     },
     "execution_count": 7,
     "metadata": {},
     "output_type": "execute_result"
    },
    {
     "data": {
      "image/png": "[encoded data removed]",
      "text/plain": [
       "<Figure size 576x360 with 1 Axes>"
      ]
     },
     "metadata": {
      "needs_background": "light"
     },
     "output_type": "display_data"
    }
   ],
   "source": [
    "rowsums = df.iloc[:,2:].sum(axis=1)\n",
    "x=rowsums.value_counts()\n",
    "#plot\n",
    "plt.figure(figsize=(8,5))\n",
    "ax = sns.barplot(x.index, x.values)\n",
    "plt.title(\"Multiple categories per comment\")\n",
    "plt.ylabel('# of Occurrences', fontsize=12)\n",
    "plt.xlabel('# of categories', fontsize=12)"
   ]
  },
  {
   "cell_type": "code",
   "execution_count": 8,
   "id": "ee82a931-741b-4fa1-8881-0d8909a38bbf",
   "metadata": {},
   "outputs": [
    {
     "name": "stdout",
     "output_type": "stream",
     "text": [
      "Percentage of comments that are not labelled:\n",
      "0.8983211235124177\n"
     ]
    }
   ],
   "source": [
    "print('Percentage of comments that are not labelled:')\n",
    "print(len(df[(df['toxic']==0) & (df['severe_toxic']==0) & (df['obscene']==0) & (df['threat']== 0) & (df['insult']==0) & (df['identity_hate']==0)]) / len(df))"
   ]
  },
  {
   "cell_type": "code",
   "execution_count": 9,
   "id": "9cdabe6f-e2fd-4d09-8224-17fec1fb7f61",
   "metadata": {},
   "outputs": [
    {
     "data": {
      "text/plain": [
       "<AxesSubplot:>"
      ]
     },
     "execution_count": 9,
     "metadata": {},
     "output_type": "execute_result"
    },
    {
     "data": {
      "image/png": "[encoded data removed]",
      "text/plain": [
       "<Figure size 432x288 with 1 Axes>"
      ]
     },
     "metadata": {
      "needs_background": "light"
     },
     "output_type": "display_data"
    }
   ],
   "source": [
    "lens = df.comment_text.str.len()\n",
    "lens.hist(bins = np.arange(0,5000,50))"
   ]
  },
  {
   "cell_type": "markdown",
   "id": "ade3a099-8a65-464c-8d86-bffe4d95200b",
   "metadata": {},
   "source": [
    "### 2. Preprocessing (data preparation)"
   ]
  },
  {
   "cell_type": "code",
   "execution_count": 10,
   "id": "f12b7321-9dca-45ac-87ae-108f1dae3b97",
   "metadata": {},
   "outputs": [
    {
     "name": "stdout",
     "output_type": "stream",
     "text": [
      "(106912,)\n",
      "(52659,)\n"
     ]
    }
   ],
   "source": [
    "categories = ['toxic', 'severe_toxic', 'obscene', 'threat', 'insult', 'identity_hate']\n",
    "train, test = train_test_split(df, random_state=42, test_size=0.33, shuffle=True)\n",
    "X_train = train.comment_text\n",
    "X_test = test.comment_text\n",
    "print(X_train.shape)\n",
    "print(X_test.shape)"
   ]
  },
  {
   "cell_type": "markdown",
   "id": "56ad7822-28fd-40ac-a32f-c71561e6a0c5",
   "metadata": {},
   "source": [
    "### 3. Model Learning"
   ]
  },
  {
   "cell_type": "markdown",
   "id": "a6976d21-5b57-4dea-971e-06fd06f79a45",
   "metadata": {},
   "source": [
    "#### 3.1 Naive Bayes"
   ]
  },
  {
   "cell_type": "code",
   "execution_count": 35,
   "id": "e48cd72e-2fa6-4570-bf98-6a8b151168ef",
   "metadata": {},
   "outputs": [
    {
     "name": "stdout",
     "output_type": "stream",
     "text": [
      "... Processing toxic\n",
      "              precision    recall  f1-score   support\n",
      "\n",
      "         0.0       0.92      1.00      0.96     47576\n",
      "         1.0       0.99      0.19      0.32      5083\n",
      "\n",
      "    accuracy                           0.92     52659\n",
      "   macro avg       0.95      0.60      0.64     52659\n",
      "weighted avg       0.93      0.92      0.90     52659\n",
      "\n"
     ]
    },
    {
     "data": {
      "image/png": "[encoded data removed]",
      "text/plain": [
       "<Figure size 432x288 with 2 Axes>"
      ]
     },
     "metadata": {
      "needs_background": "light"
     },
     "output_type": "display_data"
    },
    {
     "name": "stdout",
     "output_type": "stream",
     "text": [
      "... Processing severe_toxic\n",
      "              precision    recall  f1-score   support\n",
      "\n",
      "         0.0       0.99      1.00      0.99     52133\n",
      "         1.0       0.00      0.00      0.00       526\n",
      "\n",
      "    accuracy                           0.99     52659\n",
      "   macro avg       0.50      0.50      0.50     52659\n",
      "weighted avg       0.98      0.99      0.99     52659\n",
      "\n"
     ]
    },
    {
     "data": {
      "image/png": "[encoded data removed]",
      "text/plain": [
       "<Figure size 432x288 with 2 Axes>"
      ]
     },
     "metadata": {
      "needs_background": "light"
     },
     "output_type": "display_data"
    },
    {
     "name": "stdout",
     "output_type": "stream",
     "text": [
      "... Processing obscene\n",
      "              precision    recall  f1-score   support\n",
      "\n",
      "         0.0       0.95      1.00      0.98     49828\n",
      "         1.0       0.99      0.12      0.21      2831\n",
      "\n",
      "    accuracy                           0.95     52659\n",
      "   macro avg       0.97      0.56      0.59     52659\n",
      "weighted avg       0.95      0.95      0.93     52659\n",
      "\n"
     ]
    },
    {
     "data": {
      "image/png": "[encoded data removed]",
      "text/plain": [
       "<Figure size 432x288 with 2 Axes>"
      ]
     },
     "metadata": {
      "needs_background": "light"
     },
     "output_type": "display_data"
    },
    {
     "name": "stdout",
     "output_type": "stream",
     "text": [
      "... Processing threat\n",
      "              precision    recall  f1-score   support\n",
      "\n",
      "         0.0       1.00      1.00      1.00     52507\n",
      "         1.0       0.00      0.00      0.00       152\n",
      "\n",
      "    accuracy                           1.00     52659\n",
      "   macro avg       0.50      0.50      0.50     52659\n",
      "weighted avg       0.99      1.00      1.00     52659\n",
      "\n"
     ]
    },
    {
     "data": {
      "image/png": "[encoded data removed]",
      "text/plain": [
       "<Figure size 432x288 with 2 Axes>"
      ]
     },
     "metadata": {
      "needs_background": "light"
     },
     "output_type": "display_data"
    },
    {
     "name": "stdout",
     "output_type": "stream",
     "text": [
      "... Processing insult\n",
      "              precision    recall  f1-score   support\n",
      "\n",
      "         0.0       0.95      1.00      0.98     50016\n",
      "         1.0       0.95      0.05      0.09      2643\n",
      "\n",
      "    accuracy                           0.95     52659\n",
      "   macro avg       0.95      0.52      0.53     52659\n",
      "weighted avg       0.95      0.95      0.93     52659\n",
      "\n"
     ]
    },
    {
     "data": {
      "image/png": "[encoded data removed]",
      "text/plain": [
       "<Figure size 432x288 with 2 Axes>"
      ]
     },
     "metadata": {
      "needs_background": "light"
     },
     "output_type": "display_data"
    },
    {
     "name": "stdout",
     "output_type": "stream",
     "text": [
      "... Processing identity_hate\n",
      "              precision    recall  f1-score   support\n",
      "\n",
      "         0.0       0.99      1.00      1.00     52188\n",
      "         1.0       0.00      0.00      0.00       471\n",
      "\n",
      "    accuracy                           0.99     52659\n",
      "   macro avg       0.50      0.50      0.50     52659\n",
      "weighted avg       0.98      0.99      0.99     52659\n",
      "\n"
     ]
    },
    {
     "data": {
      "image/png": "[encoded data removed]",
      "text/plain": [
       "<Figure size 432x288 with 2 Axes>"
      ]
     },
     "metadata": {
      "needs_background": "light"
     },
     "output_type": "display_data"
    }
   ],
   "source": [
    "# Define a pipeline combining a text feature extractor with multi lable classifier\n",
    "NB_pipeline = Pipeline([\n",
    "                ('tfidf', TfidfVectorizer(stop_words=stop_words)),\n",
    "                ('clf', OneVsRestClassifier(MultinomialNB(\n",
    "                    fit_prior=True, class_prior=None))),\n",
    "            ])\n",
    "train_accuracy = []\n",
    "train_score_list = []\n",
    "test_accuracy = []\n",
    "score_list = []\n",
    "for category in categories:\n",
    "    print('... Processing {}'.format(category))\n",
    "    # train the model using X_dtm & y\n",
    "    NB_pipeline.fit(X_train, train[category])\n",
    "    \n",
    "    # compute the training accuracy\n",
    "    pred_train = NB_pipeline.predict(X_train)\n",
    "    train_accuracy.append(accuracy_score(train[category], pred_train))\n",
    "    train_score = f1_score(train[category], pred_train)\n",
    "    train_score_list.append(train_score)\n",
    "    \n",
    "    # compute the testing accuracy\n",
    "    prediction = NB_pipeline.predict(X_test)\n",
    "    test_accuracy.append(accuracy_score(test[category], prediction))\n",
    "    score= f1_score(test[category], prediction)\n",
    "    score_list.append(score)\n",
    "    cm = confusion_matrix(test[category], prediction)\n",
    "    disp = ConfusionMatrixDisplay(confusion_matrix=cm)\n",
    "    disp.plot()\n",
    "    print(classification_report(test[category], prediction))\n",
    "    plt.show()\n",
    "df_metrics_nb = pd.DataFrame(list(zip(test_accuracy, score_list)),\n",
    "               columns =['Test Accuracy', 'F1 Score'])\n",
    "df_train_metrics_nb = pd.DataFrame(list(zip(train_accuracy, train_score_list)),\n",
    "               columns =['Train Accuracy', 'F1 Score'])  "
   ]
  },
  {
   "cell_type": "code",
   "execution_count": 36,
   "id": "f902f78d-0be0-4652-87cb-5b4cf63659ab",
   "metadata": {},
   "outputs": [
    {
     "name": "stdout",
     "output_type": "stream",
     "text": [
      "   Train Accuracy  F1 Score\n",
      "0        0.927613  0.391445\n",
      "1        0.989954  0.000000\n",
      "2        0.955421  0.266318\n",
      "3        0.996932  0.000000\n",
      "4        0.954477  0.136904\n",
      "5        0.991217  0.000000\n"
     ]
    }
   ],
   "source": [
    "# NB train score\n",
    "print(df_train_metrics_nb)"
   ]
  },
  {
   "cell_type": "code",
   "execution_count": 37,
   "id": "5a1a4883-7c60-4758-a35a-f8258f4ff70c",
   "metadata": {},
   "outputs": [
    {
     "name": "stdout",
     "output_type": "stream",
     "text": [
      "   Test Accuracy  F1 Score\n",
      "0       0.921780  0.321305\n",
      "1       0.990011  0.000000\n",
      "2       0.952373  0.206329\n",
      "3       0.997114  0.000000\n",
      "4       0.952031  0.088745\n",
      "5       0.991056  0.000000\n"
     ]
    }
   ],
   "source": [
    "# NB test score\n",
    "print(df_metrics_nb)"
   ]
  },
  {
   "cell_type": "markdown",
   "id": "a22b287c-3dca-4f42-89f6-e990ade8ae82",
   "metadata": {},
   "source": [
    "#### 3.2 KNN"
   ]
  },
  {
   "cell_type": "code",
   "execution_count": 106,
   "id": "7c66ebc5-7ea0-4598-9b5b-3b4df61c5bea",
   "metadata": {},
   "outputs": [
    {
     "name": "stdout",
     "output_type": "stream",
     "text": [
      "... Processing toxic\n",
      "              precision    recall  f1-score   support\n",
      "\n",
      "         0.0       0.92      1.00      0.96     47576\n",
      "         1.0       0.91      0.18      0.30      5083\n",
      "\n",
      "    accuracy                           0.92     52659\n",
      "   macro avg       0.91      0.59      0.63     52659\n",
      "weighted avg       0.92      0.92      0.89     52659\n",
      "\n"
     ]
    },
    {
     "data": {
      "image/png": "[encoded data removed]",
      "text/plain": [
       "<Figure size 432x288 with 2 Axes>"
      ]
     },
     "metadata": {
      "needs_background": "light"
     },
     "output_type": "display_data"
    },
    {
     "name": "stdout",
     "output_type": "stream",
     "text": [
      "... Processing severe_toxic\n",
      "              precision    recall  f1-score   support\n",
      "\n",
      "         0.0       0.99      1.00      0.99     52133\n",
      "         1.0       0.40      0.17      0.24       526\n",
      "\n",
      "    accuracy                           0.99     52659\n",
      "   macro avg       0.69      0.58      0.62     52659\n",
      "weighted avg       0.99      0.99      0.99     52659\n",
      "\n"
     ]
    },
    {
     "data": {
      "image/png": "[encoded data removed]",
      "text/plain": [
       "<Figure size 432x288 with 2 Axes>"
      ]
     },
     "metadata": {
      "needs_background": "light"
     },
     "output_type": "display_data"
    },
    {
     "name": "stdout",
     "output_type": "stream",
     "text": [
      "... Processing obscene\n",
      "              precision    recall  f1-score   support\n",
      "\n",
      "         0.0       0.96      1.00      0.98     49828\n",
      "         1.0       0.88      0.24      0.38      2831\n",
      "\n",
      "    accuracy                           0.96     52659\n",
      "   macro avg       0.92      0.62      0.68     52659\n",
      "weighted avg       0.95      0.96      0.95     52659\n",
      "\n"
     ]
    },
    {
     "data": {
      "image/png": "[encoded data removed]",
      "text/plain": [
       "<Figure size 432x288 with 2 Axes>"
      ]
     },
     "metadata": {
      "needs_background": "light"
     },
     "output_type": "display_data"
    },
    {
     "name": "stdout",
     "output_type": "stream",
     "text": [
      "... Processing threat\n",
      "              precision    recall  f1-score   support\n",
      "\n",
      "         0.0       1.00      1.00      1.00     52507\n",
      "         1.0       0.50      0.05      0.08       152\n",
      "\n",
      "    accuracy                           1.00     52659\n",
      "   macro avg       0.75      0.52      0.54     52659\n",
      "weighted avg       1.00      1.00      1.00     52659\n",
      "\n"
     ]
    },
    {
     "data": {
      "image/png": "[encoded data removed]",
      "text/plain": [
       "<Figure size 432x288 with 2 Axes>"
      ]
     },
     "metadata": {
      "needs_background": "light"
     },
     "output_type": "display_data"
    },
    {
     "name": "stdout",
     "output_type": "stream",
     "text": [
      "... Processing insult\n",
      "              precision    recall  f1-score   support\n",
      "\n",
      "         0.0       0.96      1.00      0.98     50016\n",
      "         1.0       0.79      0.21      0.33      2643\n",
      "\n",
      "    accuracy                           0.96     52659\n",
      "   macro avg       0.88      0.60      0.65     52659\n",
      "weighted avg       0.95      0.96      0.95     52659\n",
      "\n"
     ]
    },
    {
     "data": {
      "image/png": "[encoded data removed]",
      "text/plain": [
       "<Figure size 432x288 with 2 Axes>"
      ]
     },
     "metadata": {
      "needs_background": "light"
     },
     "output_type": "display_data"
    },
    {
     "name": "stdout",
     "output_type": "stream",
     "text": [
      "... Processing identity_hate\n",
      "              precision    recall  f1-score   support\n",
      "\n",
      "         0.0       0.99      1.00      1.00     52188\n",
      "         1.0       0.72      0.10      0.18       471\n",
      "\n",
      "    accuracy                           0.99     52659\n",
      "   macro avg       0.85      0.55      0.59     52659\n",
      "weighted avg       0.99      0.99      0.99     52659\n",
      "\n"
     ]
    },
    {
     "data": {
      "image/png": "[encoded data removed]",
      "text/plain": [
       "<Figure size 432x288 with 2 Axes>"
      ]
     },
     "metadata": {
      "needs_background": "light"
     },
     "output_type": "display_data"
    }
   ],
   "source": [
    "# KNN pipeline\n",
    "KNN_pipeline = Pipeline([\n",
    "                ('tfidf', TfidfVectorizer(stop_words=stop_words)),\n",
    "                ('clf', OneVsRestClassifier(KNeighborsClassifier())),\n",
    "            ])\n",
    "\n",
    "knn_train_accuracy = []\n",
    "knn_train_score_list =[]\n",
    "\n",
    "knn_test_accuracy = []\n",
    "knn_score_list = []\n",
    "for category in categories:\n",
    "    print('... Processing {}'.format(category))\n",
    "    # train the model using X_dtm & y\n",
    "    KNN_pipeline.fit(X_train, train[category])\n",
    "    \n",
    "    # compute the training accuracy\n",
    "    pred_train = KNN_pipeline.predict(X_train)\n",
    "    knn_train_accuracy.append(accuracy_score(train[category], pred_train))\n",
    "    knn_train_score = f1_score(train[category], pred_train)\n",
    "    knn_train_score_list.append(knn_train_score)\n",
    "    \n",
    "    # compute the testing accuracy\n",
    "    prediction = KNN_pipeline.predict(X_test)\n",
    "    knn_test_accuracy.append(accuracy_score(test[category], prediction))\n",
    "    score= f1_score(test[category], prediction)\n",
    "    knn_score_list.append(score)\n",
    "    cm = confusion_matrix(test[category], prediction)\n",
    "    disp = ConfusionMatrixDisplay(confusion_matrix=cm)\n",
    "    disp.plot()\n",
    "    print(classification_report(test[category], prediction))\n",
    "    plt.show()\n",
    "df_metrics_knn = pd.DataFrame(list(zip(knn_test_accuracy, knn_score_list)),\n",
    "               columns =['Test Accuracy', 'F1 Score'])\n",
    "df_train_metrics_knn = pd.DataFrame(list(zip(knn_train_accuracy, knn_train_score_list)),\n",
    "               columns =['Train Accuracy', 'F1 Score'])  "
   ]
  },
  {
   "cell_type": "code",
   "execution_count": 107,
   "id": "58bb7b96-4fcf-4d07-b66d-718c8a37acc9",
   "metadata": {},
   "outputs": [
    {
     "name": "stdout",
     "output_type": "stream",
     "text": [
      "   Train Accuracy  F1 Score\n",
      "0        0.923086  0.339147\n",
      "1        0.991320  0.380507\n",
      "2        0.959958  0.405664\n",
      "3        0.997091  0.113960\n",
      "4        0.960500  0.368665\n",
      "5        0.991937  0.172745\n"
     ]
    }
   ],
   "source": [
    "# KNN train score\n",
    "print(df_train_metrics_knn)"
   ]
  },
  {
   "cell_type": "code",
   "execution_count": 108,
   "id": "b6c0f99b-cfba-470d-89e4-6ba8ea12b01e",
   "metadata": {},
   "outputs": [
    {
     "name": "stdout",
     "output_type": "stream",
     "text": [
      "   Test Accuracy  F1 Score\n",
      "0       0.919140  0.300821\n",
      "1       0.989119  0.239044\n",
      "2       0.957576  0.381848\n",
      "3       0.997114  0.084337\n",
      "4       0.957557  0.331439\n",
      "5       0.991606  0.178439\n"
     ]
    }
   ],
   "source": [
    "# KNN test score\n",
    "print(df_metrics_knn)"
   ]
  },
  {
   "cell_type": "markdown",
   "id": "df651adb-555b-4e94-8ba7-448d033a1bcd",
   "metadata": {},
   "source": [
    "#### 3.3 Decision Tree"
   ]
  },
  {
   "cell_type": "code",
   "execution_count": 11,
   "id": "a4fe9149-1588-4406-ad0f-111b238cd0d3",
   "metadata": {},
   "outputs": [
    {
     "name": "stdout",
     "output_type": "stream",
     "text": [
      "... Processing toxic\n",
      "              precision    recall  f1-score   support\n",
      "\n",
      "         0.0       0.97      0.97      0.97     47576\n",
      "         1.0       0.70      0.68      0.69      5083\n",
      "\n",
      "    accuracy                           0.94     52659\n",
      "   macro avg       0.83      0.82      0.83     52659\n",
      "weighted avg       0.94      0.94      0.94     52659\n",
      "\n"
     ]
    },
    {
     "data": {
      "image/png": "[encoded data removed]",
      "text/plain": [
       "<Figure size 432x288 with 2 Axes>"
      ]
     },
     "metadata": {
      "needs_background": "light"
     },
     "output_type": "display_data"
    },
    {
     "name": "stdout",
     "output_type": "stream",
     "text": [
      "... Processing severe_toxic\n",
      "              precision    recall  f1-score   support\n",
      "\n",
      "         0.0       0.99      0.99      0.99     52133\n",
      "         1.0       0.33      0.26      0.29       526\n",
      "\n",
      "    accuracy                           0.99     52659\n",
      "   macro avg       0.66      0.63      0.64     52659\n",
      "weighted avg       0.99      0.99      0.99     52659\n",
      "\n"
     ]
    },
    {
     "data": {
      "image/png": "[encoded data removed]",
      "text/plain": [
       "<Figure size 432x288 with 2 Axes>"
      ]
     },
     "metadata": {
      "needs_background": "light"
     },
     "output_type": "display_data"
    },
    {
     "name": "stdout",
     "output_type": "stream",
     "text": [
      "... Processing obscene\n",
      "              precision    recall  f1-score   support\n",
      "\n",
      "         0.0       0.99      0.99      0.99     49828\n",
      "         1.0       0.76      0.74      0.75      2831\n",
      "\n",
      "    accuracy                           0.97     52659\n",
      "   macro avg       0.87      0.86      0.87     52659\n",
      "weighted avg       0.97      0.97      0.97     52659\n",
      "\n"
     ]
    },
    {
     "data": {
      "image/png": "[encoded data removed]",
      "text/plain": [
       "<Figure size 432x288 with 2 Axes>"
      ]
     },
     "metadata": {
      "needs_background": "light"
     },
     "output_type": "display_data"
    },
    {
     "name": "stdout",
     "output_type": "stream",
     "text": [
      "... Processing threat\n",
      "              precision    recall  f1-score   support\n",
      "\n",
      "         0.0       1.00      1.00      1.00     52507\n",
      "         1.0       0.38      0.25      0.30       152\n",
      "\n",
      "    accuracy                           1.00     52659\n",
      "   macro avg       0.69      0.62      0.65     52659\n",
      "weighted avg       1.00      1.00      1.00     52659\n",
      "\n"
     ]
    },
    {
     "data": {
      "image/png": "[encoded data removed]",
      "text/plain": [
       "<Figure size 432x288 with 2 Axes>"
      ]
     },
     "metadata": {
      "needs_background": "light"
     },
     "output_type": "display_data"
    },
    {
     "name": "stdout",
     "output_type": "stream",
     "text": [
      "... Processing insult\n",
      "              precision    recall  f1-score   support\n",
      "\n",
      "         0.0       0.98      0.98      0.98     50016\n",
      "         1.0       0.62      0.60      0.61      2643\n",
      "\n",
      "    accuracy                           0.96     52659\n",
      "   macro avg       0.80      0.79      0.80     52659\n",
      "weighted avg       0.96      0.96      0.96     52659\n",
      "\n"
     ]
    },
    {
     "data": {
      "image/png": "[encoded data removed]",
      "text/plain": [
       "<Figure size 432x288 with 2 Axes>"
      ]
     },
     "metadata": {
      "needs_background": "light"
     },
     "output_type": "display_data"
    },
    {
     "name": "stdout",
     "output_type": "stream",
     "text": [
      "... Processing identity_hate\n",
      "              precision    recall  f1-score   support\n",
      "\n",
      "         0.0       0.99      1.00      1.00     52188\n",
      "         1.0       0.43      0.33      0.37       471\n",
      "\n",
      "    accuracy                           0.99     52659\n",
      "   macro avg       0.71      0.66      0.68     52659\n",
      "weighted avg       0.99      0.99      0.99     52659\n",
      "\n"
     ]
    },
    {
     "data": {
      "image/png": "[encoded data removed]",
      "text/plain": [
       "<Figure size 432x288 with 2 Axes>"
      ]
     },
     "metadata": {
      "needs_background": "light"
     },
     "output_type": "display_data"
    }
   ],
   "source": [
    "# Decision Tree pipeline\n",
    "DT_pipeline = Pipeline([\n",
    "                ('tfidf', TfidfVectorizer(stop_words=stop_words)),\n",
    "                ('clf', OneVsRestClassifier(DecisionTreeClassifier(criterion='entropy'))),\n",
    "            ])\n",
    "\n",
    "dt_train_accuracy = []\n",
    "dt_train_score_list = []\n",
    "\n",
    "dt_test_accuracy = []\n",
    "dt_score_list = []\n",
    "for category in categories:\n",
    "    print('... Processing {}'.format(category))\n",
    "    # train the model using X_dtm & y\n",
    "    DT_pipeline.fit(X_train, train[category])\n",
    "    \n",
    "    # compute the training accuracy\n",
    "    pred_train = DT_pipeline.predict(X_train)\n",
    "    dt_train_accuracy.append(accuracy_score(train[category], pred_train))\n",
    "    dt_train_score = f1_score(train[category], pred_train)\n",
    "    dt_train_score_list.append(dt_train_score)\n",
    "    \n",
    "    # compute the testing accuracy\n",
    "    prediction = DT_pipeline.predict(X_test)\n",
    "    dt_test_accuracy.append(accuracy_score(test[category], prediction))\n",
    "    score= f1_score(test[category], prediction)\n",
    "    dt_score_list.append(score)\n",
    "    cm = confusion_matrix(test[category], prediction)\n",
    "    disp = ConfusionMatrixDisplay(confusion_matrix=cm)\n",
    "    disp.plot()\n",
    "    print(classification_report(test[category], prediction))\n",
    "    plt.show()\n",
    "df_metrics_dt = pd.DataFrame(list(zip(dt_test_accuracy, dt_score_list)),\n",
    "               columns =['Test Accuracy', 'F1 Score'])\n",
    "df_train_metrics_dt = pd.DataFrame(list(zip(dt_train_accuracy, dt_train_score_list)),\n",
    "               columns =['Train Accuracy', 'F1 Score'])"
   ]
  },
  {
   "cell_type": "code",
   "execution_count": 12,
   "id": "9551a993-56c0-404f-a72e-f37423022af5",
   "metadata": {},
   "outputs": [
    {
     "name": "stdout",
     "output_type": "stream",
     "text": [
      "   Train Accuracy  F1 Score\n",
      "0        0.999710  0.998480\n",
      "1        0.999645  0.981956\n",
      "2        0.999673  0.996878\n",
      "3        0.999935  0.989214\n",
      "4        0.999448  0.994350\n",
      "5        0.999869  0.992457\n"
     ]
    }
   ],
   "source": [
    "# DT train score\n",
    "print(df_train_metrics_dt)"
   ]
  },
  {
   "cell_type": "code",
   "execution_count": 13,
   "id": "d5c945c2-4522-4780-9133-3758d1c5eb91",
   "metadata": {},
   "outputs": [
    {
     "name": "stdout",
     "output_type": "stream",
     "text": [
      "   Test Accuracy  F1 Score\n",
      "0       0.941264  0.690731\n",
      "1       0.987353  0.288462\n",
      "2       0.973509  0.750848\n",
      "3       0.996677  0.302789\n",
      "4       0.961811  0.611251\n",
      "5       0.990106  0.373045\n"
     ]
    }
   ],
   "source": [
    "# DT test score\n",
    "print(df_metrics_dt)"
   ]
  },
  {
   "cell_type": "markdown",
   "id": "68715043-61e9-46ff-9434-6377789fa544",
   "metadata": {},
   "source": [
    "#### 3.4 Logistic Regression"
   ]
  },
  {
   "cell_type": "code",
   "execution_count": 48,
   "id": "f49dc3d8-bd1d-4844-8315-5ef6ef182f49",
   "metadata": {},
   "outputs": [
    {
     "name": "stdout",
     "output_type": "stream",
     "text": [
      "... Processing toxic\n",
      "              precision    recall  f1-score   support\n",
      "\n",
      "         0.0       0.97      0.98      0.97     47576\n",
      "         1.0       0.77      0.69      0.73      5083\n",
      "\n",
      "    accuracy                           0.95     52659\n",
      "   macro avg       0.87      0.83      0.85     52659\n",
      "weighted avg       0.95      0.95      0.95     52659\n",
      "\n"
     ]
    },
    {
     "data": {
      "image/png": "[encoded data removed]",
      "text/plain": [
       "<Figure size 432x288 with 2 Axes>"
      ]
     },
     "metadata": {
      "needs_background": "light"
     },
     "output_type": "display_data"
    },
    {
     "name": "stdout",
     "output_type": "stream",
     "text": [
      "... Processing severe_toxic\n",
      "              precision    recall  f1-score   support\n",
      "\n",
      "         0.0       0.99      0.99      0.99     52133\n",
      "         1.0       0.37      0.31      0.34       526\n",
      "\n",
      "    accuracy                           0.99     52659\n",
      "   macro avg       0.68      0.65      0.67     52659\n",
      "weighted avg       0.99      0.99      0.99     52659\n",
      "\n"
     ]
    },
    {
     "data": {
      "image/png": "[encoded data removed]",
      "text/plain": [
       "<Figure size 432x288 with 2 Axes>"
      ]
     },
     "metadata": {
      "needs_background": "light"
     },
     "output_type": "display_data"
    },
    {
     "name": "stdout",
     "output_type": "stream",
     "text": [
      "... Processing obscene\n",
      "              precision    recall  f1-score   support\n",
      "\n",
      "         0.0       0.98      0.99      0.99     49828\n",
      "         1.0       0.80      0.66      0.73      2831\n",
      "\n",
      "    accuracy                           0.97     52659\n",
      "   macro avg       0.89      0.83      0.86     52659\n",
      "weighted avg       0.97      0.97      0.97     52659\n",
      "\n"
     ]
    },
    {
     "data": {
      "image/png": "[encoded data removed]",
      "text/plain": [
       "<Figure size 432x288 with 2 Axes>"
      ]
     },
     "metadata": {
      "needs_background": "light"
     },
     "output_type": "display_data"
    },
    {
     "name": "stdout",
     "output_type": "stream",
     "text": [
      "... Processing threat\n",
      "              precision    recall  f1-score   support\n",
      "\n",
      "         0.0       1.00      1.00      1.00     52507\n",
      "         1.0       0.46      0.30      0.36       152\n",
      "\n",
      "    accuracy                           1.00     52659\n",
      "   macro avg       0.73      0.65      0.68     52659\n",
      "weighted avg       1.00      1.00      1.00     52659\n",
      "\n"
     ]
    },
    {
     "data": {
      "image/png": "[encoded data removed]",
      "text/plain": [
       "<Figure size 432x288 with 2 Axes>"
      ]
     },
     "metadata": {
      "needs_background": "light"
     },
     "output_type": "display_data"
    },
    {
     "name": "stdout",
     "output_type": "stream",
     "text": [
      "... Processing insult\n",
      "              precision    recall  f1-score   support\n",
      "\n",
      "         0.0       0.98      0.99      0.98     50016\n",
      "         1.0       0.67      0.54      0.60      2643\n",
      "\n",
      "    accuracy                           0.96     52659\n",
      "   macro avg       0.82      0.76      0.79     52659\n",
      "weighted avg       0.96      0.96      0.96     52659\n",
      "\n"
     ]
    },
    {
     "data": {
      "image/png": "[encoded data removed]",
      "text/plain": [
       "<Figure size 432x288 with 2 Axes>"
      ]
     },
     "metadata": {
      "needs_background": "light"
     },
     "output_type": "display_data"
    },
    {
     "name": "stdout",
     "output_type": "stream",
     "text": [
      "... Processing identity_hate\n",
      "              precision    recall  f1-score   support\n",
      "\n",
      "         0.0       0.99      1.00      1.00     52188\n",
      "         1.0       0.45      0.24      0.32       471\n",
      "\n",
      "    accuracy                           0.99     52659\n",
      "   macro avg       0.72      0.62      0.66     52659\n",
      "weighted avg       0.99      0.99      0.99     52659\n",
      "\n"
     ]
    },
    {
     "data": {
      "image/png": "[encoded data removed]",
      "text/plain": [
       "<Figure size 432x288 with 2 Axes>"
      ]
     },
     "metadata": {
      "needs_background": "light"
     },
     "output_type": "display_data"
    }
   ],
   "source": [
    "# Logistic Regression Pipeline\n",
    "LogReg_pipeline = Pipeline([\n",
    "                ('tfidf', TfidfVectorizer(stop_words=stop_words)),\n",
    "                ('clf', OneVsRestClassifier(LogisticRegression(multi_class='multinomial', solver='lbfgs', penalty='none'), n_jobs=1)),\n",
    "            ])\n",
    "lgr_train_accuracy =[]\n",
    "lgr_train_score_list = []\n",
    "\n",
    "lgr_test_accuracy = []\n",
    "lgr_score_list = []\n",
    "['toxic', 'severe_toxic', 'obscene', 'threat', 'insult', 'identity_hate']\n",
    "proba_labels = []\n",
    "for category in categories:\n",
    "    print('... Processing {}'.format(category))\n",
    "    # train the model using X_dtm & y\n",
    "    LogReg_pipeline.fit(X_train, train[category])\n",
    "    \n",
    "    # compute the training accuracy\n",
    "    pred_train = LogReg_pipeline.predict(X_train)\n",
    "    lgr_train_accuracy.append(accuracy_score(train[category], pred_train))\n",
    "    lgr_train_score = f1_score(train[category], pred_train)\n",
    "    lgr_train_score_list.append(lgr_train_score)\n",
    "    \n",
    "    # compute the testing accuracy\n",
    "    prediction = LogReg_pipeline.predict(X_test)\n",
    "    lgr_test_accuracy.append(accuracy_score(test[category], prediction))\n",
    "    score= f1_score(test[category], prediction)\n",
    "    lgr_score_list.append(score)\n",
    "    cm = confusion_matrix(test[category], prediction)\n",
    "    disp = ConfusionMatrixDisplay(confusion_matrix=cm)\n",
    "    \n",
    "    # proba per label on test data\n",
    "    proba_labels.append(LogReg_pipeline.predict_proba(df_final.comment_text))\n",
    "    disp.plot()\n",
    "    print(classification_report(test[category], prediction))\n",
    "    plt.show()\n",
    "df_metrics_logre = pd.DataFrame(list(zip(lgr_test_accuracy, lgr_score_list)),\n",
    "               columns =['Test Accuracy', 'F1 Score']) \n",
    "df_train_metrics_lgr = pd.DataFrame(list(zip(lgr_train_accuracy, lgr_train_score_list)),\n",
    "               columns =['Train Accuracy', 'F1 Score'])"
   ]
  },
  {
   "cell_type": "code",
   "execution_count": 45,
   "id": "ad514cb8-a332-40de-81b1-6571a78f72e6",
   "metadata": {},
   "outputs": [
    {
     "name": "stdout",
     "output_type": "stream",
     "text": [
      "   Train Accuracy  F1 Score\n",
      "0        0.997316  0.985927\n",
      "1        0.998597  0.930297\n",
      "2        0.998803  0.988608\n",
      "3        0.999935  0.989346\n",
      "4        0.996885  0.968234\n",
      "5        0.999747  0.985523\n"
     ]
    }
   ],
   "source": [
    "# Log Reg train score\n",
    "print(df_train_metrics_lgr)"
   ]
  },
  {
   "cell_type": "code",
   "execution_count": 46,
   "id": "eb103b8b-e104-4169-99ba-2f82e07f19bd",
   "metadata": {},
   "outputs": [
    {
     "name": "stdout",
     "output_type": "stream",
     "text": [
      "   Test Accuracy  F1 Score\n",
      "0       0.950056  0.726327\n",
      "1       0.987884  0.336798\n",
      "2       0.973110  0.726218\n",
      "3       0.996981  0.361446\n",
      "4       0.963634  0.598448\n",
      "5       0.990543  0.315934\n"
     ]
    }
   ],
   "source": [
    "# Log Reg. test score\n",
    "print(df_metrics_logre)"
   ]
  },
  {
   "cell_type": "markdown",
   "id": "29671ad8-5865-4e8e-bfa4-0a23b7838e4a",
   "metadata": {},
   "source": [
    "#### 3.5 RandomForest"
   ]
  },
  {
   "cell_type": "code",
   "execution_count": 115,
   "id": "79a2e567-76ff-4b7a-96a8-956c15e93336",
   "metadata": {},
   "outputs": [
    {
     "name": "stdout",
     "output_type": "stream",
     "text": [
      "... Processing toxic\n",
      "              precision    recall  f1-score   support\n",
      "\n",
      "         0.0       0.96      0.99      0.98     47576\n",
      "         1.0       0.91      0.60      0.72      5083\n",
      "\n",
      "    accuracy                           0.96     52659\n",
      "   macro avg       0.93      0.79      0.85     52659\n",
      "weighted avg       0.95      0.96      0.95     52659\n",
      "\n"
     ]
    },
    {
     "data": {
      "image/png": "[encoded data removed]",
      "text/plain": [
       "<Figure size 432x288 with 2 Axes>"
      ]
     },
     "metadata": {
      "needs_background": "light"
     },
     "output_type": "display_data"
    },
    {
     "name": "stdout",
     "output_type": "stream",
     "text": [
      "... Processing severe_toxic\n",
      "              precision    recall  f1-score   support\n",
      "\n",
      "         0.0       0.99      1.00      0.99     52133\n",
      "         1.0       0.46      0.06      0.10       526\n",
      "\n",
      "    accuracy                           0.99     52659\n",
      "   macro avg       0.73      0.53      0.55     52659\n",
      "weighted avg       0.99      0.99      0.99     52659\n",
      "\n"
     ]
    },
    {
     "data": {
      "image/png": "[encoded data removed]",
      "text/plain": [
       "<Figure size 432x288 with 2 Axes>"
      ]
     },
     "metadata": {
      "needs_background": "light"
     },
     "output_type": "display_data"
    },
    {
     "name": "stdout",
     "output_type": "stream",
     "text": [
      "... Processing obscene\n",
      "              precision    recall  f1-score   support\n",
      "\n",
      "         0.0       0.98      1.00      0.99     49828\n",
      "         1.0       0.89      0.67      0.77      2831\n",
      "\n",
      "    accuracy                           0.98     52659\n",
      "   macro avg       0.94      0.83      0.88     52659\n",
      "weighted avg       0.98      0.98      0.98     52659\n",
      "\n"
     ]
    },
    {
     "data": {
      "image/png": "[encoded data removed]",
      "text/plain": [
       "<Figure size 432x288 with 2 Axes>"
      ]
     },
     "metadata": {
      "needs_background": "light"
     },
     "output_type": "display_data"
    },
    {
     "name": "stdout",
     "output_type": "stream",
     "text": [
      "... Processing threat\n",
      "              precision    recall  f1-score   support\n",
      "\n",
      "         0.0       1.00      1.00      1.00     52507\n",
      "         1.0       0.60      0.06      0.11       152\n",
      "\n",
      "    accuracy                           1.00     52659\n",
      "   macro avg       0.80      0.53      0.55     52659\n",
      "weighted avg       1.00      1.00      1.00     52659\n",
      "\n"
     ]
    },
    {
     "data": {
      "image/png": "[encoded data removed]",
      "text/plain": [
       "<Figure size 432x288 with 2 Axes>"
      ]
     },
     "metadata": {
      "needs_background": "light"
     },
     "output_type": "display_data"
    },
    {
     "name": "stdout",
     "output_type": "stream",
     "text": [
      "... Processing insult\n",
      "              precision    recall  f1-score   support\n",
      "\n",
      "         0.0       0.97      0.99      0.98     50016\n",
      "         1.0       0.80      0.49      0.61      2643\n",
      "\n",
      "    accuracy                           0.97     52659\n",
      "   macro avg       0.89      0.74      0.80     52659\n",
      "weighted avg       0.97      0.97      0.96     52659\n",
      "\n"
     ]
    },
    {
     "data": {
      "image/png": "[encoded data removed]",
      "text/plain": [
       "<Figure size 432x288 with 2 Axes>"
      ]
     },
     "metadata": {
      "needs_background": "light"
     },
     "output_type": "display_data"
    },
    {
     "name": "stdout",
     "output_type": "stream",
     "text": [
      "... Processing identity_hate\n",
      "              precision    recall  f1-score   support\n",
      "\n",
      "         0.0       0.99      1.00      1.00     52188\n",
      "         1.0       0.80      0.07      0.13       471\n",
      "\n",
      "    accuracy                           0.99     52659\n",
      "   macro avg       0.90      0.53      0.56     52659\n",
      "weighted avg       0.99      0.99      0.99     52659\n",
      "\n"
     ]
    },
    {
     "data": {
      "image/png": "[encoded data removed]",
      "text/plain": [
       "<Figure size 432x288 with 2 Axes>"
      ]
     },
     "metadata": {
      "needs_background": "light"
     },
     "output_type": "display_data"
    }
   ],
   "source": [
    "# RandomForest Pipeline\n",
    "RandomForest_pipeline = Pipeline([\n",
    "                ('tfidf', TfidfVectorizer(stop_words=stop_words)),\n",
    "                ('clf', OneVsRestClassifier(RandomForestClassifier(), n_jobs=1)),\n",
    "            ])\n",
    "rf_train_accuracy = []\n",
    "rf_train_score_list = []\n",
    "\n",
    "rf_test_accuracy = []\n",
    "rf_score_list = []\n",
    "for category in categories:\n",
    "    print('... Processing {}'.format(category))\n",
    "    # train the model using X_dtm & y\n",
    "    RandomForest_pipeline.fit(X_train, train[category])\n",
    "    \n",
    "    # compute the training accuracy\n",
    "    pred_train = RandomForest_pipeline.predict(X_train)\n",
    "    rf_train_accuracy.append(accuracy_score(train[category], pred_train))\n",
    "    rf_train_score = f1_score(train[category], pred_train)\n",
    "    rf_train_score_list.append(rf_train_score)\n",
    "    \n",
    "    # compute the testing accuracy\n",
    "    prediction = RandomForest_pipeline.predict(X_test)\n",
    "    rf_test_accuracy.append(accuracy_score(test[category], prediction))\n",
    "    score= f1_score(test[category], prediction)\n",
    "    rf_score_list.append(score)\n",
    "    cm = confusion_matrix(test[category], prediction)\n",
    "    disp = ConfusionMatrixDisplay(confusion_matrix=cm)\n",
    "    disp.plot()\n",
    "    print(classification_report(test[category], prediction))\n",
    "    plt.show()\n",
    "df_metrics_rf = pd.DataFrame(list(zip(rf_test_accuracy, rf_score_list)),\n",
    "               columns =['Test Accuracy', 'F1 Score'])\n",
    "df_train_metrics_rf = pd.DataFrame(list(zip(rf_train_accuracy, rf_train_score_list)),\n",
    "               columns =['Train Accuracy', 'F1 Score'])"
   ]
  },
  {
   "cell_type": "code",
   "execution_count": 116,
   "id": "d7c74f87-b281-4c7b-8456-7e2dc8d1c31d",
   "metadata": {},
   "outputs": [
    {
     "name": "stdout",
     "output_type": "stream",
     "text": [
      "   Train Accuracy  F1 Score\n",
      "0        0.999701  0.998432\n",
      "1        0.999645  0.981991\n",
      "2        0.999663  0.996791\n",
      "3        0.999935  0.989214\n",
      "4        0.999448  0.994365\n",
      "5        0.999869  0.992481\n"
     ]
    }
   ],
   "source": [
    "# RF train score\n",
    "print(df_train_metrics_rf)"
   ]
  },
  {
   "cell_type": "code",
   "execution_count": 117,
   "id": "7ff4f5f0-3d8d-41f4-8518-9241f427e6d8",
   "metadata": {},
   "outputs": [
    {
     "name": "stdout",
     "output_type": "stream",
     "text": [
      "   Test Accuracy  F1 Score\n",
      "0       0.955183  0.719715\n",
      "1       0.989916  0.101523\n",
      "2       0.978047  0.766559\n",
      "3       0.997170  0.107784\n",
      "4       0.968495  0.611930\n",
      "5       0.991530  0.128906\n"
     ]
    }
   ],
   "source": [
    "# RF test score\n",
    "print(df_metrics_rf)"
   ]
  },
  {
   "cell_type": "markdown",
   "id": "46049ef4-145b-4c38-bf67-a4a33eb8fda9",
   "metadata": {},
   "source": [
    "### 4. Final prediction"
   ]
  },
  {
   "cell_type": "code",
   "execution_count": 14,
   "id": "f8938d40-10c9-48e3-bad9-67d34732d4b6",
   "metadata": {},
   "outputs": [
    {
     "data": {
      "text/html": [
       "<div>\n",
       "<style scoped>\n",
       "    .dataframe tbody tr th:only-of-type {\n",
       "        vertical-align: middle;\n",
       "    }\n",
       "\n",
       "    .dataframe tbody tr th {\n",
       "        vertical-align: top;\n",
       "    }\n",
       "\n",
       "    .dataframe thead th {\n",
       "        text-align: right;\n",
       "    }\n",
       "</style>\n",
       "<table border=\"1\" class=\"dataframe\">\n",
       "  <thead>\n",
       "    <tr style=\"text-align: right;\">\n",
       "      <th></th>\n",
       "      <th>comment_text</th>\n",
       "      <th>id</th>\n",
       "      <th>identity_hate</th>\n",
       "      <th>insult</th>\n",
       "      <th>obscene</th>\n",
       "      <th>set</th>\n",
       "      <th>severe_toxic</th>\n",
       "      <th>threat</th>\n",
       "      <th>toxic</th>\n",
       "      <th>toxicity</th>\n",
       "    </tr>\n",
       "  </thead>\n",
       "  <tbody>\n",
       "    <tr>\n",
       "      <th>0</th>\n",
       "      <td>yo bitch ja rule is more succesful then you ll...</td>\n",
       "      <td>00001cee341fdb12</td>\n",
       "      <td>NaN</td>\n",
       "      <td>NaN</td>\n",
       "      <td>NaN</td>\n",
       "      <td>test</td>\n",
       "      <td>NaN</td>\n",
       "      <td>NaN</td>\n",
       "      <td>NaN</td>\n",
       "      <td>NaN</td>\n",
       "    </tr>\n",
       "    <tr>\n",
       "      <th>1</th>\n",
       "      <td>from rfc the title is fine as it is  imo</td>\n",
       "      <td>0000247867823ef7</td>\n",
       "      <td>NaN</td>\n",
       "      <td>NaN</td>\n",
       "      <td>NaN</td>\n",
       "      <td>test</td>\n",
       "      <td>NaN</td>\n",
       "      <td>NaN</td>\n",
       "      <td>NaN</td>\n",
       "      <td>NaN</td>\n",
       "    </tr>\n",
       "    <tr>\n",
       "      <th>2</th>\n",
       "      <td>sources zawe ashton on lapland</td>\n",
       "      <td>00013b17ad220c46</td>\n",
       "      <td>NaN</td>\n",
       "      <td>NaN</td>\n",
       "      <td>NaN</td>\n",
       "      <td>test</td>\n",
       "      <td>NaN</td>\n",
       "      <td>NaN</td>\n",
       "      <td>NaN</td>\n",
       "      <td>NaN</td>\n",
       "    </tr>\n",
       "    <tr>\n",
       "      <th>3</th>\n",
       "      <td>if you have a look back at the source  the in...</td>\n",
       "      <td>00017563c3f7919a</td>\n",
       "      <td>NaN</td>\n",
       "      <td>NaN</td>\n",
       "      <td>NaN</td>\n",
       "      <td>test</td>\n",
       "      <td>NaN</td>\n",
       "      <td>NaN</td>\n",
       "      <td>NaN</td>\n",
       "      <td>NaN</td>\n",
       "    </tr>\n",
       "    <tr>\n",
       "      <th>4</th>\n",
       "      <td>i don t anonymously edit articles at all</td>\n",
       "      <td>00017695ad8997eb</td>\n",
       "      <td>NaN</td>\n",
       "      <td>NaN</td>\n",
       "      <td>NaN</td>\n",
       "      <td>test</td>\n",
       "      <td>NaN</td>\n",
       "      <td>NaN</td>\n",
       "      <td>NaN</td>\n",
       "      <td>NaN</td>\n",
       "    </tr>\n",
       "  </tbody>\n",
       "</table>\n",
       "</div>"
      ],
      "text/plain": [
       "                                        comment_text                id  \\\n",
       "0  yo bitch ja rule is more succesful then you ll...  00001cee341fdb12   \n",
       "1          from rfc the title is fine as it is  imo   0000247867823ef7   \n",
       "2                    sources zawe ashton on lapland   00013b17ad220c46   \n",
       "3   if you have a look back at the source  the in...  00017563c3f7919a   \n",
       "4          i don t anonymously edit articles at all   00017695ad8997eb   \n",
       "\n",
       "   identity_hate  insult  obscene   set  severe_toxic  threat  toxic  toxicity  \n",
       "0            NaN     NaN      NaN  test           NaN     NaN    NaN       NaN  \n",
       "1            NaN     NaN      NaN  test           NaN     NaN    NaN       NaN  \n",
       "2            NaN     NaN      NaN  test           NaN     NaN    NaN       NaN  \n",
       "3            NaN     NaN      NaN  test           NaN     NaN    NaN       NaN  \n",
       "4            NaN     NaN      NaN  test           NaN     NaN    NaN       NaN  "
      ]
     },
     "execution_count": 14,
     "metadata": {},
     "output_type": "execute_result"
    }
   ],
   "source": [
    "df_test.head()"
   ]
  },
  {
   "cell_type": "code",
   "execution_count": 15,
   "id": "0895b2ba-ab41-457d-9689-d9c2fee9bcae",
   "metadata": {},
   "outputs": [],
   "source": [
    "df_test = df_test.drop(['id','set','toxicity'], axis=1)"
   ]
  },
  {
   "cell_type": "code",
   "execution_count": 16,
   "id": "796f83e8-8235-4652-aa42-fdb4f48a38dd",
   "metadata": {},
   "outputs": [
    {
     "name": "stdout",
     "output_type": "stream",
     "text": [
      "15\n"
     ]
    }
   ],
   "source": [
    "print(np.sum(df_test.comment_text.isnull()))"
   ]
  },
  {
   "cell_type": "code",
   "execution_count": 17,
   "id": "17b4b22d-8c21-42b8-a964-f3b3e210aa54",
   "metadata": {},
   "outputs": [],
   "source": [
    "df_final = df_test.dropna(subset=['comment_text'])"
   ]
  },
  {
   "cell_type": "code",
   "execution_count": 18,
   "id": "cfe9a391-f920-47a8-9c4e-730afc43192e",
   "metadata": {},
   "outputs": [
    {
     "name": "stdout",
     "output_type": "stream",
     "text": [
      "0\n"
     ]
    }
   ],
   "source": [
    "print(np.sum(df_final.comment_text.isnull()))"
   ]
  },
  {
   "cell_type": "code",
   "execution_count": 32,
   "id": "5d4f7a64-f914-4c7a-9e62-91c0da9ff654",
   "metadata": {},
   "outputs": [
    {
     "name": "stdout",
     "output_type": "stream",
     "text": [
      "[0. 1.]\n"
     ]
    }
   ],
   "source": [
    "print(LogReg_pipeline.classes_)"
   ]
  },
  {
   "cell_type": "code",
   "execution_count": 23,
   "id": "e330babb-b0bf-4c5c-b230-fb97e825c8a2",
   "metadata": {},
   "outputs": [
    {
     "data": {
      "text/plain": [
       "(153149, 7)"
      ]
     },
     "execution_count": 23,
     "metadata": {},
     "output_type": "execute_result"
    }
   ],
   "source": [
    "df_final.shape"
   ]
  },
  {
   "cell_type": "code",
   "execution_count": 64,
   "id": "eda4e769-2cfe-4ac0-be10-44094bbef7f4",
   "metadata": {},
   "outputs": [],
   "source": [
    "df_proba_toxic = pd.DataFrame(list(zip(df_final.comment_text,proba_labels[0][:, :1], proba_labels[0][:, 1:])),\n",
    "               columns =['comment_text', 'Non toxic', 'Toxic'])"
   ]
  },
  {
   "cell_type": "code",
   "execution_count": 66,
   "id": "d453c588-af91-4f3a-b96b-6cf4e85afb60",
   "metadata": {},
   "outputs": [
    {
     "data": {
      "text/html": [
       "<div>\n",
       "<style scoped>\n",
       "    .dataframe tbody tr th:only-of-type {\n",
       "        vertical-align: middle;\n",
       "    }\n",
       "\n",
       "    .dataframe tbody tr th {\n",
       "        vertical-align: top;\n",
       "    }\n",
       "\n",
       "    .dataframe thead th {\n",
       "        text-align: right;\n",
       "    }\n",
       "</style>\n",
       "<table border=\"1\" class=\"dataframe\">\n",
       "  <thead>\n",
       "    <tr style=\"text-align: right;\">\n",
       "      <th></th>\n",
       "      <th>comment_text</th>\n",
       "      <th>Non toxic</th>\n",
       "      <th>Toxic</th>\n",
       "    </tr>\n",
       "  </thead>\n",
       "  <tbody>\n",
       "    <tr>\n",
       "      <th>0</th>\n",
       "      <td>yo bitch ja rule is more succesful then you ll...</td>\n",
       "      <td>[6.661338147750939e-16]</td>\n",
       "      <td>[0.9999999999999993]</td>\n",
       "    </tr>\n",
       "    <tr>\n",
       "      <th>1</th>\n",
       "      <td>from rfc the title is fine as it is  imo</td>\n",
       "      <td>[0.9999999999998015]</td>\n",
       "      <td>[1.985185017793249e-13]</td>\n",
       "    </tr>\n",
       "    <tr>\n",
       "      <th>2</th>\n",
       "      <td>sources zawe ashton on lapland</td>\n",
       "      <td>[0.9999999839387469]</td>\n",
       "      <td>[1.6061253147783157e-08]</td>\n",
       "    </tr>\n",
       "    <tr>\n",
       "      <th>3</th>\n",
       "      <td>if you have a look back at the source  the in...</td>\n",
       "      <td>[0.9999999999999998]</td>\n",
       "      <td>[2.2113443880985854e-16]</td>\n",
       "    </tr>\n",
       "    <tr>\n",
       "      <th>4</th>\n",
       "      <td>i don t anonymously edit articles at all</td>\n",
       "      <td>[0.9999999997921614]</td>\n",
       "      <td>[2.078386093026958e-10]</td>\n",
       "    </tr>\n",
       "    <tr>\n",
       "      <th>5</th>\n",
       "      <td>thank you for understanding  i think very high...</td>\n",
       "      <td>[0.9999999999960975]</td>\n",
       "      <td>[3.9025047095762545e-12]</td>\n",
       "    </tr>\n",
       "    <tr>\n",
       "      <th>6</th>\n",
       "      <td>please do not add nonsense to wikipedia  such ...</td>\n",
       "      <td>[1.0]</td>\n",
       "      <td>[9.464736149068122e-18]</td>\n",
       "    </tr>\n",
       "    <tr>\n",
       "      <th>7</th>\n",
       "      <td>dear god this site is horrible</td>\n",
       "      <td>[0.9966917095758594]</td>\n",
       "      <td>[0.0033082904241406247]</td>\n",
       "    </tr>\n",
       "    <tr>\n",
       "      <th>8</th>\n",
       "      <td>only a fool can believe in such numbers  the ...</td>\n",
       "      <td>[0.9999999999057629]</td>\n",
       "      <td>[9.423709697713621e-11]</td>\n",
       "    </tr>\n",
       "    <tr>\n",
       "      <th>9</th>\n",
       "      <td>double redirects when fixing double redirects...</td>\n",
       "      <td>[1.0]</td>\n",
       "      <td>[1.1860877137391605e-19]</td>\n",
       "    </tr>\n",
       "  </tbody>\n",
       "</table>\n",
       "</div>"
      ],
      "text/plain": [
       "                                        comment_text                Non toxic  \\\n",
       "0  yo bitch ja rule is more succesful then you ll...  [6.661338147750939e-16]   \n",
       "1          from rfc the title is fine as it is  imo      [0.9999999999998015]   \n",
       "2                    sources zawe ashton on lapland      [0.9999999839387469]   \n",
       "3   if you have a look back at the source  the in...     [0.9999999999999998]   \n",
       "4          i don t anonymously edit articles at all      [0.9999999997921614]   \n",
       "5  thank you for understanding  i think very high...     [0.9999999999960975]   \n",
       "6  please do not add nonsense to wikipedia  such ...                    [1.0]   \n",
       "7                    dear god this site is horrible      [0.9966917095758594]   \n",
       "8   only a fool can believe in such numbers  the ...     [0.9999999999057629]   \n",
       "9   double redirects when fixing double redirects...                    [1.0]   \n",
       "\n",
       "                      Toxic  \n",
       "0      [0.9999999999999993]  \n",
       "1   [1.985185017793249e-13]  \n",
       "2  [1.6061253147783157e-08]  \n",
       "3  [2.2113443880985854e-16]  \n",
       "4   [2.078386093026958e-10]  \n",
       "5  [3.9025047095762545e-12]  \n",
       "6   [9.464736149068122e-18]  \n",
       "7   [0.0033082904241406247]  \n",
       "8   [9.423709697713621e-11]  \n",
       "9  [1.1860877137391605e-19]  "
      ]
     },
     "execution_count": 66,
     "metadata": {},
     "output_type": "execute_result"
    }
   ],
   "source": [
    "df_proba_toxic.head(10)"
   ]
  },
  {
   "cell_type": "code",
   "execution_count": 68,
   "id": "959cb84c-3c08-49cd-bff3-3014b2a7d3fc",
   "metadata": {},
   "outputs": [
    {
     "data": {
      "text/html": [
       "<div>\n",
       "<style scoped>\n",
       "    .dataframe tbody tr th:only-of-type {\n",
       "        vertical-align: middle;\n",
       "    }\n",
       "\n",
       "    .dataframe tbody tr th {\n",
       "        vertical-align: top;\n",
       "    }\n",
       "\n",
       "    .dataframe thead th {\n",
       "        text-align: right;\n",
       "    }\n",
       "</style>\n",
       "<table border=\"1\" class=\"dataframe\">\n",
       "  <thead>\n",
       "    <tr style=\"text-align: right;\">\n",
       "      <th></th>\n",
       "      <th>comment_text</th>\n",
       "      <th>Non toxic</th>\n",
       "      <th>Toxic</th>\n",
       "    </tr>\n",
       "  </thead>\n",
       "  <tbody>\n",
       "    <tr>\n",
       "      <th>0</th>\n",
       "      <td>yo bitch ja rule is more succesful then you ll...</td>\n",
       "      <td>[0.962016419263167]</td>\n",
       "      <td>[0.037983580736832924]</td>\n",
       "    </tr>\n",
       "    <tr>\n",
       "      <th>1</th>\n",
       "      <td>from rfc the title is fine as it is  imo</td>\n",
       "      <td>[0.9999999999999176]</td>\n",
       "      <td>[8.237931899281459e-14]</td>\n",
       "    </tr>\n",
       "    <tr>\n",
       "      <th>2</th>\n",
       "      <td>sources zawe ashton on lapland</td>\n",
       "      <td>[0.9999999994982987]</td>\n",
       "      <td>[5.017013202612237e-10]</td>\n",
       "    </tr>\n",
       "    <tr>\n",
       "      <th>3</th>\n",
       "      <td>if you have a look back at the source  the in...</td>\n",
       "      <td>[0.9999999998639091]</td>\n",
       "      <td>[1.3609092235478781e-10]</td>\n",
       "    </tr>\n",
       "    <tr>\n",
       "      <th>4</th>\n",
       "      <td>i don t anonymously edit articles at all</td>\n",
       "      <td>[0.9999999658005245]</td>\n",
       "      <td>[3.419947552465034e-08]</td>\n",
       "    </tr>\n",
       "    <tr>\n",
       "      <th>5</th>\n",
       "      <td>thank you for understanding  i think very high...</td>\n",
       "      <td>[0.9999999999422599]</td>\n",
       "      <td>[5.77401671264206e-11]</td>\n",
       "    </tr>\n",
       "    <tr>\n",
       "      <th>6</th>\n",
       "      <td>please do not add nonsense to wikipedia  such ...</td>\n",
       "      <td>[0.9999999999940008]</td>\n",
       "      <td>[5.999240656661034e-12]</td>\n",
       "    </tr>\n",
       "    <tr>\n",
       "      <th>7</th>\n",
       "      <td>dear god this site is horrible</td>\n",
       "      <td>[0.9999999976305649]</td>\n",
       "      <td>[2.36943508335086e-09]</td>\n",
       "    </tr>\n",
       "    <tr>\n",
       "      <th>8</th>\n",
       "      <td>only a fool can believe in such numbers  the ...</td>\n",
       "      <td>[0.9999999999974609]</td>\n",
       "      <td>[2.5390897590816924e-12]</td>\n",
       "    </tr>\n",
       "    <tr>\n",
       "      <th>9</th>\n",
       "      <td>double redirects when fixing double redirects...</td>\n",
       "      <td>[0.9999999999993331]</td>\n",
       "      <td>[6.669235580052892e-13]</td>\n",
       "    </tr>\n",
       "  </tbody>\n",
       "</table>\n",
       "</div>"
      ],
      "text/plain": [
       "                                        comment_text             Non toxic  \\\n",
       "0  yo bitch ja rule is more succesful then you ll...   [0.962016419263167]   \n",
       "1          from rfc the title is fine as it is  imo   [0.9999999999999176]   \n",
       "2                    sources zawe ashton on lapland   [0.9999999994982987]   \n",
       "3   if you have a look back at the source  the in...  [0.9999999998639091]   \n",
       "4          i don t anonymously edit articles at all   [0.9999999658005245]   \n",
       "5  thank you for understanding  i think very high...  [0.9999999999422599]   \n",
       "6  please do not add nonsense to wikipedia  such ...  [0.9999999999940008]   \n",
       "7                    dear god this site is horrible   [0.9999999976305649]   \n",
       "8   only a fool can believe in such numbers  the ...  [0.9999999999974609]   \n",
       "9   double redirects when fixing double redirects...  [0.9999999999993331]   \n",
       "\n",
       "                      Toxic  \n",
       "0    [0.037983580736832924]  \n",
       "1   [8.237931899281459e-14]  \n",
       "2   [5.017013202612237e-10]  \n",
       "3  [1.3609092235478781e-10]  \n",
       "4   [3.419947552465034e-08]  \n",
       "5    [5.77401671264206e-11]  \n",
       "6   [5.999240656661034e-12]  \n",
       "7    [2.36943508335086e-09]  \n",
       "8  [2.5390897590816924e-12]  \n",
       "9   [6.669235580052892e-13]  "
      ]
     },
     "execution_count": 68,
     "metadata": {},
     "output_type": "execute_result"
    }
   ],
   "source": [
    "df_proba_severe_toxic = pd.DataFrame(list(zip(df_final.comment_text,proba_labels[1][:, :1], proba_labels[1][:, 1:])),\n",
    "               columns =['comment_text', 'Non toxic', 'Toxic'])\n",
    "df_proba_severe_toxic.head(10)"
   ]
  },
  {
   "cell_type": "code",
   "execution_count": 69,
   "id": "a75c6af1-0ae9-4992-9e3e-fea0e89be9fd",
   "metadata": {},
   "outputs": [
    {
     "data": {
      "text/html": [
       "<div>\n",
       "<style scoped>\n",
       "    .dataframe tbody tr th:only-of-type {\n",
       "        vertical-align: middle;\n",
       "    }\n",
       "\n",
       "    .dataframe tbody tr th {\n",
       "        vertical-align: top;\n",
       "    }\n",
       "\n",
       "    .dataframe thead th {\n",
       "        text-align: right;\n",
       "    }\n",
       "</style>\n",
       "<table border=\"1\" class=\"dataframe\">\n",
       "  <thead>\n",
       "    <tr style=\"text-align: right;\">\n",
       "      <th></th>\n",
       "      <th>comment_text</th>\n",
       "      <th>Non toxic</th>\n",
       "      <th>Toxic</th>\n",
       "    </tr>\n",
       "  </thead>\n",
       "  <tbody>\n",
       "    <tr>\n",
       "      <th>0</th>\n",
       "      <td>yo bitch ja rule is more succesful then you ll...</td>\n",
       "      <td>[0.0]</td>\n",
       "      <td>[1.0]</td>\n",
       "    </tr>\n",
       "    <tr>\n",
       "      <th>1</th>\n",
       "      <td>from rfc the title is fine as it is  imo</td>\n",
       "      <td>[0.9999999999506841]</td>\n",
       "      <td>[4.9315861510901565e-11]</td>\n",
       "    </tr>\n",
       "    <tr>\n",
       "      <th>2</th>\n",
       "      <td>sources zawe ashton on lapland</td>\n",
       "      <td>[0.9999999999345355]</td>\n",
       "      <td>[6.546447847940306e-11]</td>\n",
       "    </tr>\n",
       "    <tr>\n",
       "      <th>3</th>\n",
       "      <td>if you have a look back at the source  the in...</td>\n",
       "      <td>[0.9999999593332748]</td>\n",
       "      <td>[4.066672519916886e-08]</td>\n",
       "    </tr>\n",
       "    <tr>\n",
       "      <th>4</th>\n",
       "      <td>i don t anonymously edit articles at all</td>\n",
       "      <td>[0.9999999999410415]</td>\n",
       "      <td>[5.895852686411375e-11]</td>\n",
       "    </tr>\n",
       "    <tr>\n",
       "      <th>5</th>\n",
       "      <td>thank you for understanding  i think very high...</td>\n",
       "      <td>[0.9999999999460838]</td>\n",
       "      <td>[5.391622397115748e-11]</td>\n",
       "    </tr>\n",
       "    <tr>\n",
       "      <th>6</th>\n",
       "      <td>please do not add nonsense to wikipedia  such ...</td>\n",
       "      <td>[0.9999999999854031]</td>\n",
       "      <td>[1.45968249371642e-11]</td>\n",
       "    </tr>\n",
       "    <tr>\n",
       "      <th>7</th>\n",
       "      <td>dear god this site is horrible</td>\n",
       "      <td>[0.9999948421989489]</td>\n",
       "      <td>[5.157801051136335e-06]</td>\n",
       "    </tr>\n",
       "    <tr>\n",
       "      <th>8</th>\n",
       "      <td>only a fool can believe in such numbers  the ...</td>\n",
       "      <td>[0.9999364682761618]</td>\n",
       "      <td>[6.353172383820286e-05]</td>\n",
       "    </tr>\n",
       "    <tr>\n",
       "      <th>9</th>\n",
       "      <td>double redirects when fixing double redirects...</td>\n",
       "      <td>[0.99999999999924]</td>\n",
       "      <td>[7.599402197907075e-13]</td>\n",
       "    </tr>\n",
       "  </tbody>\n",
       "</table>\n",
       "</div>"
      ],
      "text/plain": [
       "                                        comment_text             Non toxic  \\\n",
       "0  yo bitch ja rule is more succesful then you ll...                 [0.0]   \n",
       "1          from rfc the title is fine as it is  imo   [0.9999999999506841]   \n",
       "2                    sources zawe ashton on lapland   [0.9999999999345355]   \n",
       "3   if you have a look back at the source  the in...  [0.9999999593332748]   \n",
       "4          i don t anonymously edit articles at all   [0.9999999999410415]   \n",
       "5  thank you for understanding  i think very high...  [0.9999999999460838]   \n",
       "6  please do not add nonsense to wikipedia  such ...  [0.9999999999854031]   \n",
       "7                    dear god this site is horrible   [0.9999948421989489]   \n",
       "8   only a fool can believe in such numbers  the ...  [0.9999364682761618]   \n",
       "9   double redirects when fixing double redirects...    [0.99999999999924]   \n",
       "\n",
       "                      Toxic  \n",
       "0                     [1.0]  \n",
       "1  [4.9315861510901565e-11]  \n",
       "2   [6.546447847940306e-11]  \n",
       "3   [4.066672519916886e-08]  \n",
       "4   [5.895852686411375e-11]  \n",
       "5   [5.391622397115748e-11]  \n",
       "6    [1.45968249371642e-11]  \n",
       "7   [5.157801051136335e-06]  \n",
       "8   [6.353172383820286e-05]  \n",
       "9   [7.599402197907075e-13]  "
      ]
     },
     "execution_count": 69,
     "metadata": {},
     "output_type": "execute_result"
    }
   ],
   "source": [
    "df_proba_obscene = pd.DataFrame(list(zip(df_final.comment_text,proba_labels[2][:, :1], proba_labels[2][:, 1:])),\n",
    "               columns =['comment_text', 'Non toxic', 'Toxic'])\n",
    "df_proba_obscene.head(10)"
   ]
  },
  {
   "cell_type": "code",
   "execution_count": 70,
   "id": "05c1cd84-8192-4eb3-9839-0d3e1e9c1d34",
   "metadata": {},
   "outputs": [
    {
     "data": {
      "text/html": [
       "<div>\n",
       "<style scoped>\n",
       "    .dataframe tbody tr th:only-of-type {\n",
       "        vertical-align: middle;\n",
       "    }\n",
       "\n",
       "    .dataframe tbody tr th {\n",
       "        vertical-align: top;\n",
       "    }\n",
       "\n",
       "    .dataframe thead th {\n",
       "        text-align: right;\n",
       "    }\n",
       "</style>\n",
       "<table border=\"1\" class=\"dataframe\">\n",
       "  <thead>\n",
       "    <tr style=\"text-align: right;\">\n",
       "      <th></th>\n",
       "      <th>comment_text</th>\n",
       "      <th>Non toxic</th>\n",
       "      <th>Toxic</th>\n",
       "    </tr>\n",
       "  </thead>\n",
       "  <tbody>\n",
       "    <tr>\n",
       "      <th>0</th>\n",
       "      <td>yo bitch ja rule is more succesful then you ll...</td>\n",
       "      <td>[1.0]</td>\n",
       "      <td>[2.5025721105868596e-116]</td>\n",
       "    </tr>\n",
       "    <tr>\n",
       "      <th>1</th>\n",
       "      <td>from rfc the title is fine as it is  imo</td>\n",
       "      <td>[1.0]</td>\n",
       "      <td>[1.1222824363157047e-275]</td>\n",
       "    </tr>\n",
       "    <tr>\n",
       "      <th>2</th>\n",
       "      <td>sources zawe ashton on lapland</td>\n",
       "      <td>[1.0]</td>\n",
       "      <td>[2.9224111613348395e-268]</td>\n",
       "    </tr>\n",
       "    <tr>\n",
       "      <th>3</th>\n",
       "      <td>if you have a look back at the source  the in...</td>\n",
       "      <td>[1.0]</td>\n",
       "      <td>[4.429415149477922e-288]</td>\n",
       "    </tr>\n",
       "    <tr>\n",
       "      <th>4</th>\n",
       "      <td>i don t anonymously edit articles at all</td>\n",
       "      <td>[1.0]</td>\n",
       "      <td>[1.0581676395308583e-214]</td>\n",
       "    </tr>\n",
       "    <tr>\n",
       "      <th>5</th>\n",
       "      <td>thank you for understanding  i think very high...</td>\n",
       "      <td>[1.0]</td>\n",
       "      <td>[1.07154e-318]</td>\n",
       "    </tr>\n",
       "    <tr>\n",
       "      <th>6</th>\n",
       "      <td>please do not add nonsense to wikipedia  such ...</td>\n",
       "      <td>[1.0]</td>\n",
       "      <td>[0.0]</td>\n",
       "    </tr>\n",
       "    <tr>\n",
       "      <th>7</th>\n",
       "      <td>dear god this site is horrible</td>\n",
       "      <td>[1.0]</td>\n",
       "      <td>[1.7228075998668537e-183]</td>\n",
       "    </tr>\n",
       "    <tr>\n",
       "      <th>8</th>\n",
       "      <td>only a fool can believe in such numbers  the ...</td>\n",
       "      <td>[1.0]</td>\n",
       "      <td>[1.6383619602724192e-187]</td>\n",
       "    </tr>\n",
       "    <tr>\n",
       "      <th>9</th>\n",
       "      <td>double redirects when fixing double redirects...</td>\n",
       "      <td>[1.0]</td>\n",
       "      <td>[9.408519582299162e-254]</td>\n",
       "    </tr>\n",
       "  </tbody>\n",
       "</table>\n",
       "</div>"
      ],
      "text/plain": [
       "                                        comment_text Non toxic  \\\n",
       "0  yo bitch ja rule is more succesful then you ll...     [1.0]   \n",
       "1          from rfc the title is fine as it is  imo      [1.0]   \n",
       "2                    sources zawe ashton on lapland      [1.0]   \n",
       "3   if you have a look back at the source  the in...     [1.0]   \n",
       "4          i don t anonymously edit articles at all      [1.0]   \n",
       "5  thank you for understanding  i think very high...     [1.0]   \n",
       "6  please do not add nonsense to wikipedia  such ...     [1.0]   \n",
       "7                    dear god this site is horrible      [1.0]   \n",
       "8   only a fool can believe in such numbers  the ...     [1.0]   \n",
       "9   double redirects when fixing double redirects...     [1.0]   \n",
       "\n",
       "                       Toxic  \n",
       "0  [2.5025721105868596e-116]  \n",
       "1  [1.1222824363157047e-275]  \n",
       "2  [2.9224111613348395e-268]  \n",
       "3   [4.429415149477922e-288]  \n",
       "4  [1.0581676395308583e-214]  \n",
       "5             [1.07154e-318]  \n",
       "6                      [0.0]  \n",
       "7  [1.7228075998668537e-183]  \n",
       "8  [1.6383619602724192e-187]  \n",
       "9   [9.408519582299162e-254]  "
      ]
     },
     "execution_count": 70,
     "metadata": {},
     "output_type": "execute_result"
    }
   ],
   "source": [
    "df_proba_threat = pd.DataFrame(list(zip(df_final.comment_text,proba_labels[3][:, :1], proba_labels[3][:, 1:])),\n",
    "               columns =['comment_text', 'Non toxic', 'Toxic'])\n",
    "df_proba_threat.head(10)"
   ]
  },
  {
   "cell_type": "code",
   "execution_count": 71,
   "id": "5e88a39e-fb1a-4ae7-b6e6-7f52f1bc7c0f",
   "metadata": {},
   "outputs": [
    {
     "data": {
      "text/html": [
       "<div>\n",
       "<style scoped>\n",
       "    .dataframe tbody tr th:only-of-type {\n",
       "        vertical-align: middle;\n",
       "    }\n",
       "\n",
       "    .dataframe tbody tr th {\n",
       "        vertical-align: top;\n",
       "    }\n",
       "\n",
       "    .dataframe thead th {\n",
       "        text-align: right;\n",
       "    }\n",
       "</style>\n",
       "<table border=\"1\" class=\"dataframe\">\n",
       "  <thead>\n",
       "    <tr style=\"text-align: right;\">\n",
       "      <th></th>\n",
       "      <th>comment_text</th>\n",
       "      <th>Non toxic</th>\n",
       "      <th>Toxic</th>\n",
       "    </tr>\n",
       "  </thead>\n",
       "  <tbody>\n",
       "    <tr>\n",
       "      <th>0</th>\n",
       "      <td>yo bitch ja rule is more succesful then you ll...</td>\n",
       "      <td>[0.003561018866528598]</td>\n",
       "      <td>[0.9964389811334714]</td>\n",
       "    </tr>\n",
       "    <tr>\n",
       "      <th>1</th>\n",
       "      <td>from rfc the title is fine as it is  imo</td>\n",
       "      <td>[0.9999999998846361]</td>\n",
       "      <td>[1.1536390463195246e-10]</td>\n",
       "    </tr>\n",
       "    <tr>\n",
       "      <th>2</th>\n",
       "      <td>sources zawe ashton on lapland</td>\n",
       "      <td>[0.9999999546745767]</td>\n",
       "      <td>[4.532542325192509e-08]</td>\n",
       "    </tr>\n",
       "    <tr>\n",
       "      <th>3</th>\n",
       "      <td>if you have a look back at the source  the in...</td>\n",
       "      <td>[0.9999999555879207]</td>\n",
       "      <td>[4.4412079397014e-08]</td>\n",
       "    </tr>\n",
       "    <tr>\n",
       "      <th>4</th>\n",
       "      <td>i don t anonymously edit articles at all</td>\n",
       "      <td>[0.9999999978364407]</td>\n",
       "      <td>[2.163559324023915e-09]</td>\n",
       "    </tr>\n",
       "    <tr>\n",
       "      <th>5</th>\n",
       "      <td>thank you for understanding  i think very high...</td>\n",
       "      <td>[0.9999921746259354]</td>\n",
       "      <td>[7.825374064671889e-06]</td>\n",
       "    </tr>\n",
       "    <tr>\n",
       "      <th>6</th>\n",
       "      <td>please do not add nonsense to wikipedia  such ...</td>\n",
       "      <td>[0.9999999931401325]</td>\n",
       "      <td>[6.859867475780771e-09]</td>\n",
       "    </tr>\n",
       "    <tr>\n",
       "      <th>7</th>\n",
       "      <td>dear god this site is horrible</td>\n",
       "      <td>[0.9571846598717335]</td>\n",
       "      <td>[0.0428153401282665]</td>\n",
       "    </tr>\n",
       "    <tr>\n",
       "      <th>8</th>\n",
       "      <td>only a fool can believe in such numbers  the ...</td>\n",
       "      <td>[0.999999995891476]</td>\n",
       "      <td>[4.1085239606390335e-09]</td>\n",
       "    </tr>\n",
       "    <tr>\n",
       "      <th>9</th>\n",
       "      <td>double redirects when fixing double redirects...</td>\n",
       "      <td>[0.9999880124803024]</td>\n",
       "      <td>[1.1987519697584962e-05]</td>\n",
       "    </tr>\n",
       "  </tbody>\n",
       "</table>\n",
       "</div>"
      ],
      "text/plain": [
       "                                        comment_text               Non toxic  \\\n",
       "0  yo bitch ja rule is more succesful then you ll...  [0.003561018866528598]   \n",
       "1          from rfc the title is fine as it is  imo     [0.9999999998846361]   \n",
       "2                    sources zawe ashton on lapland     [0.9999999546745767]   \n",
       "3   if you have a look back at the source  the in...    [0.9999999555879207]   \n",
       "4          i don t anonymously edit articles at all     [0.9999999978364407]   \n",
       "5  thank you for understanding  i think very high...    [0.9999921746259354]   \n",
       "6  please do not add nonsense to wikipedia  such ...    [0.9999999931401325]   \n",
       "7                    dear god this site is horrible     [0.9571846598717335]   \n",
       "8   only a fool can believe in such numbers  the ...     [0.999999995891476]   \n",
       "9   double redirects when fixing double redirects...    [0.9999880124803024]   \n",
       "\n",
       "                      Toxic  \n",
       "0      [0.9964389811334714]  \n",
       "1  [1.1536390463195246e-10]  \n",
       "2   [4.532542325192509e-08]  \n",
       "3     [4.4412079397014e-08]  \n",
       "4   [2.163559324023915e-09]  \n",
       "5   [7.825374064671889e-06]  \n",
       "6   [6.859867475780771e-09]  \n",
       "7      [0.0428153401282665]  \n",
       "8  [4.1085239606390335e-09]  \n",
       "9  [1.1987519697584962e-05]  "
      ]
     },
     "execution_count": 71,
     "metadata": {},
     "output_type": "execute_result"
    }
   ],
   "source": [
    "df_proba_insult = pd.DataFrame(list(zip(df_final.comment_text,proba_labels[4][:, :1], proba_labels[4][:, 1:])),\n",
    "               columns =['comment_text', 'Non toxic', 'Toxic'])\n",
    "df_proba_insult.head(10)"
   ]
  },
  {
   "cell_type": "code",
   "execution_count": 72,
   "id": "3fc6f2db-6385-498f-b03f-c3b7b64fc35d",
   "metadata": {},
   "outputs": [
    {
     "data": {
      "text/html": [
       "<div>\n",
       "<style scoped>\n",
       "    .dataframe tbody tr th:only-of-type {\n",
       "        vertical-align: middle;\n",
       "    }\n",
       "\n",
       "    .dataframe tbody tr th {\n",
       "        vertical-align: top;\n",
       "    }\n",
       "\n",
       "    .dataframe thead th {\n",
       "        text-align: right;\n",
       "    }\n",
       "</style>\n",
       "<table border=\"1\" class=\"dataframe\">\n",
       "  <thead>\n",
       "    <tr style=\"text-align: right;\">\n",
       "      <th></th>\n",
       "      <th>comment_text</th>\n",
       "      <th>Non toxic</th>\n",
       "      <th>Toxic</th>\n",
       "    </tr>\n",
       "  </thead>\n",
       "  <tbody>\n",
       "    <tr>\n",
       "      <th>0</th>\n",
       "      <td>yo bitch ja rule is more succesful then you ll...</td>\n",
       "      <td>[0.40435603485580196]</td>\n",
       "      <td>[0.595643965144198]</td>\n",
       "    </tr>\n",
       "    <tr>\n",
       "      <th>1</th>\n",
       "      <td>from rfc the title is fine as it is  imo</td>\n",
       "      <td>[1.0]</td>\n",
       "      <td>[1.7176547652907027e-19]</td>\n",
       "    </tr>\n",
       "    <tr>\n",
       "      <th>2</th>\n",
       "      <td>sources zawe ashton on lapland</td>\n",
       "      <td>[0.9999999999999961]</td>\n",
       "      <td>[3.9288076091123316e-15]</td>\n",
       "    </tr>\n",
       "    <tr>\n",
       "      <th>3</th>\n",
       "      <td>if you have a look back at the source  the in...</td>\n",
       "      <td>[1.0]</td>\n",
       "      <td>[2.5553944726971914e-27]</td>\n",
       "    </tr>\n",
       "    <tr>\n",
       "      <th>4</th>\n",
       "      <td>i don t anonymously edit articles at all</td>\n",
       "      <td>[0.9999999999999998]</td>\n",
       "      <td>[2.1842438933635514e-16]</td>\n",
       "    </tr>\n",
       "    <tr>\n",
       "      <th>5</th>\n",
       "      <td>thank you for understanding  i think very high...</td>\n",
       "      <td>[1.0]</td>\n",
       "      <td>[1.9653667113961195e-24]</td>\n",
       "    </tr>\n",
       "    <tr>\n",
       "      <th>6</th>\n",
       "      <td>please do not add nonsense to wikipedia  such ...</td>\n",
       "      <td>[1.0]</td>\n",
       "      <td>[2.9093037402925476e-21]</td>\n",
       "    </tr>\n",
       "    <tr>\n",
       "      <th>7</th>\n",
       "      <td>dear god this site is horrible</td>\n",
       "      <td>[1.0]</td>\n",
       "      <td>[4.555453956716526e-18]</td>\n",
       "    </tr>\n",
       "    <tr>\n",
       "      <th>8</th>\n",
       "      <td>only a fool can believe in such numbers  the ...</td>\n",
       "      <td>[0.9999999999999994]</td>\n",
       "      <td>[5.695419451394628e-16]</td>\n",
       "    </tr>\n",
       "    <tr>\n",
       "      <th>9</th>\n",
       "      <td>double redirects when fixing double redirects...</td>\n",
       "      <td>[0.9999999999990653]</td>\n",
       "      <td>[9.346853197417716e-13]</td>\n",
       "    </tr>\n",
       "  </tbody>\n",
       "</table>\n",
       "</div>"
      ],
      "text/plain": [
       "                                        comment_text              Non toxic  \\\n",
       "0  yo bitch ja rule is more succesful then you ll...  [0.40435603485580196]   \n",
       "1          from rfc the title is fine as it is  imo                   [1.0]   \n",
       "2                    sources zawe ashton on lapland    [0.9999999999999961]   \n",
       "3   if you have a look back at the source  the in...                  [1.0]   \n",
       "4          i don t anonymously edit articles at all    [0.9999999999999998]   \n",
       "5  thank you for understanding  i think very high...                  [1.0]   \n",
       "6  please do not add nonsense to wikipedia  such ...                  [1.0]   \n",
       "7                    dear god this site is horrible                   [1.0]   \n",
       "8   only a fool can believe in such numbers  the ...   [0.9999999999999994]   \n",
       "9   double redirects when fixing double redirects...   [0.9999999999990653]   \n",
       "\n",
       "                      Toxic  \n",
       "0       [0.595643965144198]  \n",
       "1  [1.7176547652907027e-19]  \n",
       "2  [3.9288076091123316e-15]  \n",
       "3  [2.5553944726971914e-27]  \n",
       "4  [2.1842438933635514e-16]  \n",
       "5  [1.9653667113961195e-24]  \n",
       "6  [2.9093037402925476e-21]  \n",
       "7   [4.555453956716526e-18]  \n",
       "8   [5.695419451394628e-16]  \n",
       "9   [9.346853197417716e-13]  "
      ]
     },
     "execution_count": 72,
     "metadata": {},
     "output_type": "execute_result"
    }
   ],
   "source": [
    "df_proba_identity_hate = pd.DataFrame(list(zip(df_final.comment_text,proba_labels[5][:, :1], proba_labels[5][:, 1:])),\n",
    "               columns =['comment_text', 'Non toxic', 'Toxic'])\n",
    "df_proba_identity_hate.head(10)"
   ]
  },
  {
   "cell_type": "code",
   "execution_count": null,
   "id": "aa4b7719-9bb3-4e4a-b07a-3be9c7cfd079",
   "metadata": {},
   "outputs": [],
   "source": []
  }
 ],
 "metadata": {
  "kernelspec": {
   "display_name": "Python 3",
   "language": "python",
   "name": "python3"
  },
  "language_info": {
   "codemirror_mode": {
    "name": "ipython",
    "version": 3
   },
   "file_extension": ".py",
   "mimetype": "text/x-python",
   "name": "python",
   "nbconvert_exporter": "python",
   "pygments_lexer": "ipython3",
   "version": "3.8.10"
  }
 },
 "nbformat": 4,
 "nbformat_minor": 5
}
