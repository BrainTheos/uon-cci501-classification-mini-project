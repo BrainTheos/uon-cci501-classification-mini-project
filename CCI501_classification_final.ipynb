{
 "cells": [
  {
   "cell_type": "code",
   "execution_count": 93,
   "id": "34bf0cda-9f09-48a7-b1ec-ce0d82c32d58",
   "metadata": {},
   "outputs": [],
   "source": [
    "%matplotlib inline\n",
    "import matplotlib\n",
    "import matplotlib.pyplot as plt\n",
    "import seaborn as sns\n",
    "\n",
    "# Preprocessing\n",
    "import pandas as pd\n",
    "import numpy as np\n",
    "import re\n",
    "\n",
    "#Text representation and transformation\n",
    "from sklearn.feature_extraction.text import TfidfVectorizer\n",
    "from nltk.corpus import stopwords\n",
    "stop_words = set(stopwords.words('english'))\n",
    "from sklearn.pipeline import Pipeline\n",
    "from sklearn.pipeline import make_pipeline\n",
    "from sklearn.preprocessing import StandardScaler\n",
    "\n",
    "from sklearn.model_selection import GridSearchCV\n",
    "\n",
    "#Validation\n",
    "from sklearn.model_selection import train_test_split\n",
    "\n",
    "# classifiers algorithms\n",
    "from sklearn.naive_bayes import MultinomialNB\n",
    "from sklearn.multiclass import OneVsRestClassifier\n",
    "from sklearn.ensemble import RandomForestClassifier\n",
    "from sklearn.linear_model import LogisticRegression\n",
    "from sklearn.neighbors import KNeighborsClassifier\n",
    "from sklearn.tree import DecisionTreeClassifier\n",
    "\n",
    "# Evaluation metrics\n",
    "from sklearn.metrics import accuracy_score, f1_score, confusion_matrix, ConfusionMatrixDisplay\n",
    "from sklearn.metrics import classification_report\n",
    "\n",
    "import warnings\n",
    "warnings.filterwarnings('ignore')"
   ]
  },
  {
   "cell_type": "markdown",
   "id": "ce36be4a-3745-44a7-8df7-36762869d371",
   "metadata": {},
   "source": [
    "### 1. EDA"
   ]
  },
  {
   "cell_type": "code",
   "execution_count": 94,
   "id": "b54cba03-3c1c-4f1b-96b9-dfd3966fc5e7",
   "metadata": {},
   "outputs": [
    {
     "data": {
      "text/html": [
       "<div>\n",
       "<style scoped>\n",
       "    .dataframe tbody tr th:only-of-type {\n",
       "        vertical-align: middle;\n",
       "    }\n",
       "\n",
       "    .dataframe tbody tr th {\n",
       "        vertical-align: top;\n",
       "    }\n",
       "\n",
       "    .dataframe thead th {\n",
       "        text-align: right;\n",
       "    }\n",
       "</style>\n",
       "<table border=\"1\" class=\"dataframe\">\n",
       "  <thead>\n",
       "    <tr style=\"text-align: right;\">\n",
       "      <th></th>\n",
       "      <th>comment_text</th>\n",
       "      <th>id</th>\n",
       "      <th>identity_hate</th>\n",
       "      <th>insult</th>\n",
       "      <th>obscene</th>\n",
       "      <th>set</th>\n",
       "      <th>severe_toxic</th>\n",
       "      <th>threat</th>\n",
       "      <th>toxic</th>\n",
       "      <th>toxicity</th>\n",
       "    </tr>\n",
       "  </thead>\n",
       "  <tbody>\n",
       "    <tr>\n",
       "      <th>0</th>\n",
       "      <td>explanation why the edits made under my userna...</td>\n",
       "      <td>0000997932d777bf</td>\n",
       "      <td>0.0</td>\n",
       "      <td>0.0</td>\n",
       "      <td>0.0</td>\n",
       "      <td>train</td>\n",
       "      <td>0.0</td>\n",
       "      <td>0.0</td>\n",
       "      <td>0.0</td>\n",
       "      <td>0.0</td>\n",
       "    </tr>\n",
       "    <tr>\n",
       "      <th>1</th>\n",
       "      <td>d aww  he matches this background colour i m s...</td>\n",
       "      <td>000103f0d9cfb60f</td>\n",
       "      <td>0.0</td>\n",
       "      <td>0.0</td>\n",
       "      <td>0.0</td>\n",
       "      <td>train</td>\n",
       "      <td>0.0</td>\n",
       "      <td>0.0</td>\n",
       "      <td>0.0</td>\n",
       "      <td>0.0</td>\n",
       "    </tr>\n",
       "    <tr>\n",
       "      <th>2</th>\n",
       "      <td>hey man  i m really not trying to edit war  it...</td>\n",
       "      <td>000113f07ec002fd</td>\n",
       "      <td>0.0</td>\n",
       "      <td>0.0</td>\n",
       "      <td>0.0</td>\n",
       "      <td>train</td>\n",
       "      <td>0.0</td>\n",
       "      <td>0.0</td>\n",
       "      <td>0.0</td>\n",
       "      <td>0.0</td>\n",
       "    </tr>\n",
       "    <tr>\n",
       "      <th>3</th>\n",
       "      <td>more i can t make any real suggestions on im...</td>\n",
       "      <td>0001b41b1c6bb37e</td>\n",
       "      <td>0.0</td>\n",
       "      <td>0.0</td>\n",
       "      <td>0.0</td>\n",
       "      <td>train</td>\n",
       "      <td>0.0</td>\n",
       "      <td>0.0</td>\n",
       "      <td>0.0</td>\n",
       "      <td>0.0</td>\n",
       "    </tr>\n",
       "    <tr>\n",
       "      <th>4</th>\n",
       "      <td>you  sir  are my hero  any chance you remember...</td>\n",
       "      <td>0001d958c54c6e35</td>\n",
       "      <td>0.0</td>\n",
       "      <td>0.0</td>\n",
       "      <td>0.0</td>\n",
       "      <td>train</td>\n",
       "      <td>0.0</td>\n",
       "      <td>0.0</td>\n",
       "      <td>0.0</td>\n",
       "      <td>0.0</td>\n",
       "    </tr>\n",
       "  </tbody>\n",
       "</table>\n",
       "</div>"
      ],
      "text/plain": [
       "                                        comment_text                id  \\\n",
       "0  explanation why the edits made under my userna...  0000997932d777bf   \n",
       "1  d aww  he matches this background colour i m s...  000103f0d9cfb60f   \n",
       "2  hey man  i m really not trying to edit war  it...  000113f07ec002fd   \n",
       "3    more i can t make any real suggestions on im...  0001b41b1c6bb37e   \n",
       "4  you  sir  are my hero  any chance you remember...  0001d958c54c6e35   \n",
       "\n",
       "   identity_hate  insult  obscene    set  severe_toxic  threat  toxic  \\\n",
       "0            0.0     0.0      0.0  train           0.0     0.0    0.0   \n",
       "1            0.0     0.0      0.0  train           0.0     0.0    0.0   \n",
       "2            0.0     0.0      0.0  train           0.0     0.0    0.0   \n",
       "3            0.0     0.0      0.0  train           0.0     0.0    0.0   \n",
       "4            0.0     0.0      0.0  train           0.0     0.0    0.0   \n",
       "\n",
       "   toxicity  \n",
       "0       0.0  \n",
       "1       0.0  \n",
       "2       0.0  \n",
       "3       0.0  \n",
       "4       0.0  "
      ]
     },
     "execution_count": 94,
     "metadata": {},
     "output_type": "execute_result"
    }
   ],
   "source": [
    "# Load the train and test datasets\n",
    "df = pd.read_csv(\"Dataset/train_preprocessed.csv\")\n",
    "df_test = pd.read_csv(\"Dataset/test_preprocessed.csv\")\n",
    "df.head()"
   ]
  },
  {
   "cell_type": "code",
   "execution_count": 95,
   "id": "1f2825e1-6e60-47a2-b135-c7012ad516d3",
   "metadata": {},
   "outputs": [
    {
     "data": {
      "text/plain": [
       "(159571, 10)"
      ]
     },
     "execution_count": 95,
     "metadata": {},
     "output_type": "execute_result"
    }
   ],
   "source": [
    "df.shape"
   ]
  },
  {
   "cell_type": "code",
   "execution_count": 96,
   "id": "d7a988e7-a0c8-420b-9d3c-e839d11e72cf",
   "metadata": {},
   "outputs": [
    {
     "data": {
      "text/plain": [
       "(153164, 10)"
      ]
     },
     "execution_count": 96,
     "metadata": {},
     "output_type": "execute_result"
    }
   ],
   "source": [
    "df_test.shape"
   ]
  },
  {
   "cell_type": "code",
   "execution_count": 97,
   "id": "42546d49-89c3-4e27-a402-10f505491483",
   "metadata": {},
   "outputs": [],
   "source": [
    "df = df.drop(['id','set','toxicity'], axis=1)\n",
    "labels = list(df.columns)\n",
    "labels.remove('comment_text')"
   ]
  },
  {
   "cell_type": "code",
   "execution_count": 98,
   "id": "cbf88e75-d071-430e-b419-d03f508d7bed",
   "metadata": {},
   "outputs": [
    {
     "data": {
      "image/png": "[encoded data removed]",
      "text/plain": [
       "<Figure size 432x288 with 1 Axes>"
      ]
     },
     "metadata": {
      "needs_background": "light"
     },
     "output_type": "display_data"
    }
   ],
   "source": [
    "ax = df[labels].sum(axis=0).plot(kind='bar', title='# comments per label');\n",
    "for p in ax.patches:\n",
    "    ax.annotate(str(int(p.get_height())), (p.get_x() * 1.01, p.get_height() * 1.001))"
   ]
  },
  {
   "cell_type": "code",
   "execution_count": 99,
   "id": "78212727-952e-4175-ae23-8215b3288ab7",
   "metadata": {},
   "outputs": [
    {
     "data": {
      "text/plain": [
       "Text(0.5, 0, '# of categories')"
      ]
     },
     "execution_count": 99,
     "metadata": {},
     "output_type": "execute_result"
    },
    {
     "data": {
      "image/png": "[encoded data removed]",
      "text/plain": [
       "<Figure size 576x360 with 1 Axes>"
      ]
     },
     "metadata": {
      "needs_background": "light"
     },
     "output_type": "display_data"
    }
   ],
   "source": [
    "rowsums = df.iloc[:,2:].sum(axis=1)\n",
    "x=rowsums.value_counts()\n",
    "#plot\n",
    "plt.figure(figsize=(8,5))\n",
    "ax = sns.barplot(x.index, x.values)\n",
    "plt.title(\"Multiple categories per comment\")\n",
    "plt.ylabel('# of Occurrences', fontsize=12)\n",
    "plt.xlabel('# of categories', fontsize=12)"
   ]
  },
  {
   "cell_type": "code",
   "execution_count": 100,
   "id": "ee82a931-741b-4fa1-8881-0d8909a38bbf",
   "metadata": {},
   "outputs": [
    {
     "name": "stdout",
     "output_type": "stream",
     "text": [
      "Percentage of comments that are not labelled:\n",
      "0.8983211235124177\n"
     ]
    }
   ],
   "source": [
    "print('Percentage of comments that are not labelled:')\n",
    "print(len(df[(df['toxic']==0) & (df['severe_toxic']==0) & (df['obscene']==0) & (df['threat']== 0) & (df['insult']==0) & (df['identity_hate']==0)]) / len(df))"
   ]
  },
  {
   "cell_type": "code",
   "execution_count": 101,
   "id": "9cdabe6f-e2fd-4d09-8224-17fec1fb7f61",
   "metadata": {},
   "outputs": [
    {
     "data": {
      "text/plain": [
       "<AxesSubplot:>"
      ]
     },
     "execution_count": 101,
     "metadata": {},
     "output_type": "execute_result"
    },
    {
     "data": {
      "image/png": "[encoded data removed]",
      "text/plain": [
       "<Figure size 432x288 with 1 Axes>"
      ]
     },
     "metadata": {
      "needs_background": "light"
     },
     "output_type": "display_data"
    }
   ],
   "source": [
    "lens = df.comment_text.str.len()\n",
    "lens.hist(bins = np.arange(0,5000,50))"
   ]
  },
  {
   "cell_type": "markdown",
   "id": "ade3a099-8a65-464c-8d86-bffe4d95200b",
   "metadata": {},
   "source": [
    "### 2. Preprocessing (data preparation)"
   ]
  },
  {
   "cell_type": "code",
   "execution_count": 102,
   "id": "f12b7321-9dca-45ac-87ae-108f1dae3b97",
   "metadata": {},
   "outputs": [
    {
     "name": "stdout",
     "output_type": "stream",
     "text": [
      "(106912,)\n",
      "(52659,)\n"
     ]
    }
   ],
   "source": [
    "categories = ['toxic', 'severe_toxic', 'obscene', 'threat', 'insult', 'identity_hate']\n",
    "train, test = train_test_split(df, random_state=42, test_size=0.33, shuffle=True)\n",
    "X_train = train.comment_text\n",
    "X_test = test.comment_text\n",
    "print(X_train.shape)\n",
    "print(X_test.shape)"
   ]
  },
  {
   "cell_type": "markdown",
   "id": "56ad7822-28fd-40ac-a32f-c71561e6a0c5",
   "metadata": {},
   "source": [
    "### 3. Model Learning"
   ]
  },
  {
   "cell_type": "markdown",
   "id": "a6976d21-5b57-4dea-971e-06fd06f79a45",
   "metadata": {},
   "source": [
    "#### 3.1 Naive Bayes"
   ]
  },
  {
   "cell_type": "code",
   "execution_count": 103,
   "id": "e48cd72e-2fa6-4570-bf98-6a8b151168ef",
   "metadata": {},
   "outputs": [
    {
     "name": "stdout",
     "output_type": "stream",
     "text": [
      "... Processing toxic\n",
      "              precision    recall  f1-score   support\n",
      "\n",
      "         0.0       0.92      1.00      0.96     47576\n",
      "         1.0       0.99      0.19      0.32      5083\n",
      "\n",
      "    accuracy                           0.92     52659\n",
      "   macro avg       0.95      0.60      0.64     52659\n",
      "weighted avg       0.93      0.92      0.90     52659\n",
      "\n"
     ]
    },
    {
     "data": {
      "image/png": "[encoded data removed]",
      "text/plain": [
       "<Figure size 432x288 with 2 Axes>"
      ]
     },
     "metadata": {
      "needs_background": "light"
     },
     "output_type": "display_data"
    },
    {
     "name": "stdout",
     "output_type": "stream",
     "text": [
      "... Processing severe_toxic\n",
      "              precision    recall  f1-score   support\n",
      "\n",
      "         0.0       0.99      1.00      0.99     52133\n",
      "         1.0       0.00      0.00      0.00       526\n",
      "\n",
      "    accuracy                           0.99     52659\n",
      "   macro avg       0.50      0.50      0.50     52659\n",
      "weighted avg       0.98      0.99      0.99     52659\n",
      "\n"
     ]
    },
    {
     "data": {
      "image/png": "[encoded data removed]",
      "text/plain": [
       "<Figure size 432x288 with 2 Axes>"
      ]
     },
     "metadata": {
      "needs_background": "light"
     },
     "output_type": "display_data"
    },
    {
     "name": "stdout",
     "output_type": "stream",
     "text": [
      "... Processing obscene\n",
      "              precision    recall  f1-score   support\n",
      "\n",
      "         0.0       0.95      1.00      0.98     49828\n",
      "         1.0       0.99      0.12      0.21      2831\n",
      "\n",
      "    accuracy                           0.95     52659\n",
      "   macro avg       0.97      0.56      0.59     52659\n",
      "weighted avg       0.95      0.95      0.93     52659\n",
      "\n"
     ]
    },
    {
     "data": {
      "image/png": "[encoded data removed]",
      "text/plain": [
       "<Figure size 432x288 with 2 Axes>"
      ]
     },
     "metadata": {
      "needs_background": "light"
     },
     "output_type": "display_data"
    },
    {
     "name": "stdout",
     "output_type": "stream",
     "text": [
      "... Processing threat\n",
      "              precision    recall  f1-score   support\n",
      "\n",
      "         0.0       1.00      1.00      1.00     52507\n",
      "         1.0       0.00      0.00      0.00       152\n",
      "\n",
      "    accuracy                           1.00     52659\n",
      "   macro avg       0.50      0.50      0.50     52659\n",
      "weighted avg       0.99      1.00      1.00     52659\n",
      "\n"
     ]
    },
    {
     "data": {
      "image/png": "[encoded data removed]",
      "text/plain": [
       "<Figure size 432x288 with 2 Axes>"
      ]
     },
     "metadata": {
      "needs_background": "light"
     },
     "output_type": "display_data"
    },
    {
     "name": "stdout",
     "output_type": "stream",
     "text": [
      "... Processing insult\n",
      "              precision    recall  f1-score   support\n",
      "\n",
      "         0.0       0.95      1.00      0.98     50016\n",
      "         1.0       0.95      0.05      0.09      2643\n",
      "\n",
      "    accuracy                           0.95     52659\n",
      "   macro avg       0.95      0.52      0.53     52659\n",
      "weighted avg       0.95      0.95      0.93     52659\n",
      "\n"
     ]
    },
    {
     "data": {
      "image/png": "[encoded data removed]",
      "text/plain": [
       "<Figure size 432x288 with 2 Axes>"
      ]
     },
     "metadata": {
      "needs_background": "light"
     },
     "output_type": "display_data"
    },
    {
     "name": "stdout",
     "output_type": "stream",
     "text": [
      "... Processing identity_hate\n",
      "              precision    recall  f1-score   support\n",
      "\n",
      "         0.0       0.99      1.00      1.00     52188\n",
      "         1.0       0.00      0.00      0.00       471\n",
      "\n",
      "    accuracy                           0.99     52659\n",
      "   macro avg       0.50      0.50      0.50     52659\n",
      "weighted avg       0.98      0.99      0.99     52659\n",
      "\n"
     ]
    },
    {
     "data": {
      "image/png": "[encoded data removed]",
      "text/plain": [
       "<Figure size 432x288 with 2 Axes>"
      ]
     },
     "metadata": {
      "needs_background": "light"
     },
     "output_type": "display_data"
    }
   ],
   "source": [
    "# Define a pipeline combining a text feature extractor with multi lable classifier\n",
    "NB_pipeline = Pipeline([\n",
    "                ('tfidf', TfidfVectorizer(stop_words=stop_words)),\n",
    "                ('clf', OneVsRestClassifier(MultinomialNB(\n",
    "                    fit_prior=True, class_prior=None))),\n",
    "            ])\n",
    "train_accuracy = []\n",
    "train_score_list = []\n",
    "test_accuracy = []\n",
    "score_list = []\n",
    "for category in categories:\n",
    "    print('... Processing {}'.format(category))\n",
    "    # train the model using X_dtm & y\n",
    "    NB_pipeline.fit(X_train, train[category])\n",
    "    \n",
    "    # compute the training accuracy\n",
    "    pred_train = NB_pipeline.predict(X_train)\n",
    "    train_accuracy.append(accuracy_score(train[category], pred_train))\n",
    "    train_score = f1_score(train[category], pred_train)\n",
    "    train_score_list.append(train_score)\n",
    "    \n",
    "    # compute the testing accuracy\n",
    "    prediction = NB_pipeline.predict(X_test)\n",
    "    test_accuracy.append(accuracy_score(test[category], prediction))\n",
    "    score= f1_score(test[category], prediction)\n",
    "    score_list.append(score)\n",
    "    cm = confusion_matrix(test[category], prediction)\n",
    "    disp = ConfusionMatrixDisplay(confusion_matrix=cm)\n",
    "    disp.plot()\n",
    "    print(classification_report(test[category], prediction))\n",
    "    plt.show()\n",
    "df_metrics_nb = pd.DataFrame(list(zip(test_accuracy, score_list)),\n",
    "               columns =['Test Accuracy', 'F1 Score'])\n",
    "df_train_metrics_nb = pd.DataFrame(list(zip(train_accuracy, train_score_list)),\n",
    "               columns =['Train Accuracy', 'F1 Score'])  "
   ]
  },
  {
   "cell_type": "code",
   "execution_count": 104,
   "id": "f902f78d-0be0-4652-87cb-5b4cf63659ab",
   "metadata": {},
   "outputs": [
    {
     "name": "stdout",
     "output_type": "stream",
     "text": [
      "   Train Accuracy  F1 Score\n",
      "0        0.927613  0.391445\n",
      "1        0.989954  0.000000\n",
      "2        0.955421  0.266318\n",
      "3        0.996932  0.000000\n",
      "4        0.954477  0.136904\n",
      "5        0.991217  0.000000\n"
     ]
    }
   ],
   "source": [
    "# NB train score\n",
    "print(df_train_metrics_nb)"
   ]
  },
  {
   "cell_type": "code",
   "execution_count": 105,
   "id": "5a1a4883-7c60-4758-a35a-f8258f4ff70c",
   "metadata": {},
   "outputs": [
    {
     "name": "stdout",
     "output_type": "stream",
     "text": [
      "   Test Accuracy  F1 Score\n",
      "0       0.921780  0.321305\n",
      "1       0.990011  0.000000\n",
      "2       0.952373  0.206329\n",
      "3       0.997114  0.000000\n",
      "4       0.952031  0.088745\n",
      "5       0.991056  0.000000\n"
     ]
    }
   ],
   "source": [
    "# NB test score\n",
    "print(df_metrics_nb)"
   ]
  },
  {
   "cell_type": "markdown",
   "id": "a22b287c-3dca-4f42-89f6-e990ade8ae82",
   "metadata": {},
   "source": [
    "#### 3.2 KNN"
   ]
  },
  {
   "cell_type": "code",
   "execution_count": 106,
   "id": "7c66ebc5-7ea0-4598-9b5b-3b4df61c5bea",
   "metadata": {},
   "outputs": [
    {
     "name": "stdout",
     "output_type": "stream",
     "text": [
      "... Processing toxic\n",
      "              precision    recall  f1-score   support\n",
      "\n",
      "         0.0       0.92      1.00      0.96     47576\n",
      "         1.0       0.91      0.18      0.30      5083\n",
      "\n",
      "    accuracy                           0.92     52659\n",
      "   macro avg       0.91      0.59      0.63     52659\n",
      "weighted avg       0.92      0.92      0.89     52659\n",
      "\n"
     ]
    },
    {
     "data": {
      "image/png": "[encoded data removed]",
      "text/plain": [
       "<Figure size 432x288 with 2 Axes>"
      ]
     },
     "metadata": {
      "needs_background": "light"
     },
     "output_type": "display_data"
    },
    {
     "name": "stdout",
     "output_type": "stream",
     "text": [
      "... Processing severe_toxic\n",
      "              precision    recall  f1-score   support\n",
      "\n",
      "         0.0       0.99      1.00      0.99     52133\n",
      "         1.0       0.40      0.17      0.24       526\n",
      "\n",
      "    accuracy                           0.99     52659\n",
      "   macro avg       0.69      0.58      0.62     52659\n",
      "weighted avg       0.99      0.99      0.99     52659\n",
      "\n"
     ]
    },
    {
     "data": {
      "image/png": "[encoded data removed]",
      "text/plain": [
       "<Figure size 432x288 with 2 Axes>"
      ]
     },
     "metadata": {
      "needs_background": "light"
     },
     "output_type": "display_data"
    },
    {
     "name": "stdout",
     "output_type": "stream",
     "text": [
      "... Processing obscene\n",
      "              precision    recall  f1-score   support\n",
      "\n",
      "         0.0       0.96      1.00      0.98     49828\n",
      "         1.0       0.88      0.24      0.38      2831\n",
      "\n",
      "    accuracy                           0.96     52659\n",
      "   macro avg       0.92      0.62      0.68     52659\n",
      "weighted avg       0.95      0.96      0.95     52659\n",
      "\n"
     ]
    },
    {
     "data": {
      "image/png": "[encoded data removed]",
      "text/plain": [
       "<Figure size 432x288 with 2 Axes>"
      ]
     },
     "metadata": {
      "needs_background": "light"
     },
     "output_type": "display_data"
    },
    {
     "name": "stdout",
     "output_type": "stream",
     "text": [
      "... Processing threat\n",
      "              precision    recall  f1-score   support\n",
      "\n",
      "         0.0       1.00      1.00      1.00     52507\n",
      "         1.0       0.50      0.05      0.08       152\n",
      "\n",
      "    accuracy                           1.00     52659\n",
      "   macro avg       0.75      0.52      0.54     52659\n",
      "weighted avg       1.00      1.00      1.00     52659\n",
      "\n"
     ]
    },
    {
     "data": {
      "image/png": "[encoded data removed]",
      "text/plain": [
       "<Figure size 432x288 with 2 Axes>"
      ]
     },
     "metadata": {
      "needs_background": "light"
     },
     "output_type": "display_data"
    },
    {
     "name": "stdout",
     "output_type": "stream",
     "text": [
      "... Processing insult\n",
      "              precision    recall  f1-score   support\n",
      "\n",
      "         0.0       0.96      1.00      0.98     50016\n",
      "         1.0       0.79      0.21      0.33      2643\n",
      "\n",
      "    accuracy                           0.96     52659\n",
      "   macro avg       0.88      0.60      0.65     52659\n",
      "weighted avg       0.95      0.96      0.95     52659\n",
      "\n"
     ]
    },
    {
     "data": {
      "image/png": "[encoded data removed]",
      "text/plain": [
       "<Figure size 432x288 with 2 Axes>"
      ]
     },
     "metadata": {
      "needs_background": "light"
     },
     "output_type": "display_data"
    },
    {
     "name": "stdout",
     "output_type": "stream",
     "text": [
      "... Processing identity_hate\n",
      "              precision    recall  f1-score   support\n",
      "\n",
      "         0.0       0.99      1.00      1.00     52188\n",
      "         1.0       0.72      0.10      0.18       471\n",
      "\n",
      "    accuracy                           0.99     52659\n",
      "   macro avg       0.85      0.55      0.59     52659\n",
      "weighted avg       0.99      0.99      0.99     52659\n",
      "\n"
     ]
    },
    {
     "data": {
      "image/png": "[encoded data removed]",
      "text/plain": [
       "<Figure size 432x288 with 2 Axes>"
      ]
     },
     "metadata": {
      "needs_background": "light"
     },
     "output_type": "display_data"
    }
   ],
   "source": [
    "# KNN pipeline\n",
    "KNN_pipeline = Pipeline([\n",
    "                ('tfidf', TfidfVectorizer(stop_words=stop_words)),\n",
    "                ('clf', OneVsRestClassifier(KNeighborsClassifier())),\n",
    "            ])\n",
    "\n",
    "knn_train_accuracy = []\n",
    "knn_train_score_list =[]\n",
    "\n",
    "knn_test_accuracy = []\n",
    "knn_score_list = []\n",
    "for category in categories:\n",
    "    print('... Processing {}'.format(category))\n",
    "    # train the model using X_dtm & y\n",
    "    KNN_pipeline.fit(X_train, train[category])\n",
    "    \n",
    "    # compute the training accuracy\n",
    "    pred_train = KNN_pipeline.predict(X_train)\n",
    "    knn_train_accuracy.append(accuracy_score(train[category], pred_train))\n",
    "    knn_train_score = f1_score(train[category], pred_train)\n",
    "    knn_train_score_list.append(knn_train_score)\n",
    "    \n",
    "    # compute the testing accuracy\n",
    "    prediction = KNN_pipeline.predict(X_test)\n",
    "    knn_test_accuracy.append(accuracy_score(test[category], prediction))\n",
    "    score= f1_score(test[category], prediction)\n",
    "    knn_score_list.append(score)\n",
    "    cm = confusion_matrix(test[category], prediction)\n",
    "    disp = ConfusionMatrixDisplay(confusion_matrix=cm)\n",
    "    disp.plot()\n",
    "    print(classification_report(test[category], prediction))\n",
    "    plt.show()\n",
    "df_metrics_knn = pd.DataFrame(list(zip(knn_test_accuracy, knn_score_list)),\n",
    "               columns =['Test Accuracy', 'F1 Score'])\n",
    "df_train_metrics_knn = pd.DataFrame(list(zip(knn_train_accuracy, knn_train_score_list)),\n",
    "               columns =['Train Accuracy', 'F1 Score'])  "
   ]
  },
  {
   "cell_type": "code",
   "execution_count": 107,
   "id": "58bb7b96-4fcf-4d07-b66d-718c8a37acc9",
   "metadata": {},
   "outputs": [
    {
     "name": "stdout",
     "output_type": "stream",
     "text": [
      "   Train Accuracy  F1 Score\n",
      "0        0.923086  0.339147\n",
      "1        0.991320  0.380507\n",
      "2        0.959958  0.405664\n",
      "3        0.997091  0.113960\n",
      "4        0.960500  0.368665\n",
      "5        0.991937  0.172745\n"
     ]
    }
   ],
   "source": [
    "# KNN train score\n",
    "print(df_train_metrics_knn)"
   ]
  },
  {
   "cell_type": "code",
   "execution_count": 108,
   "id": "b6c0f99b-cfba-470d-89e4-6ba8ea12b01e",
   "metadata": {},
   "outputs": [
    {
     "name": "stdout",
     "output_type": "stream",
     "text": [
      "   Test Accuracy  F1 Score\n",
      "0       0.919140  0.300821\n",
      "1       0.989119  0.239044\n",
      "2       0.957576  0.381848\n",
      "3       0.997114  0.084337\n",
      "4       0.957557  0.331439\n",
      "5       0.991606  0.178439\n"
     ]
    }
   ],
   "source": [
    "# KNN test score\n",
    "print(df_metrics_knn)"
   ]
  },
  {
   "cell_type": "markdown",
   "id": "df651adb-555b-4e94-8ba7-448d033a1bcd",
   "metadata": {},
   "source": [
    "#### 3.3 Decision Tree"
   ]
  },
  {
   "cell_type": "code",
   "execution_count": 109,
   "id": "a4fe9149-1588-4406-ad0f-111b238cd0d3",
   "metadata": {},
   "outputs": [
    {
     "name": "stdout",
     "output_type": "stream",
     "text": [
      "... Processing toxic\n",
      "              precision    recall  f1-score   support\n",
      "\n",
      "         0.0       0.97      0.97      0.97     47576\n",
      "         1.0       0.70      0.69      0.69      5083\n",
      "\n",
      "    accuracy                           0.94     52659\n",
      "   macro avg       0.83      0.83      0.83     52659\n",
      "weighted avg       0.94      0.94      0.94     52659\n",
      "\n"
     ]
    },
    {
     "data": {
      "image/png": "[encoded data removed]",
      "text/plain": [
       "<Figure size 432x288 with 2 Axes>"
      ]
     },
     "metadata": {
      "needs_background": "light"
     },
     "output_type": "display_data"
    },
    {
     "name": "stdout",
     "output_type": "stream",
     "text": [
      "... Processing severe_toxic\n",
      "              precision    recall  f1-score   support\n",
      "\n",
      "         0.0       0.99      0.99      0.99     52133\n",
      "         1.0       0.34      0.27      0.30       526\n",
      "\n",
      "    accuracy                           0.99     52659\n",
      "   macro avg       0.66      0.63      0.65     52659\n",
      "weighted avg       0.99      0.99      0.99     52659\n",
      "\n"
     ]
    },
    {
     "data": {
      "image/png": "[encoded data removed]",
      "text/plain": [
       "<Figure size 432x288 with 2 Axes>"
      ]
     },
     "metadata": {
      "needs_background": "light"
     },
     "output_type": "display_data"
    },
    {
     "name": "stdout",
     "output_type": "stream",
     "text": [
      "... Processing obscene\n",
      "              precision    recall  f1-score   support\n",
      "\n",
      "         0.0       0.99      0.99      0.99     49828\n",
      "         1.0       0.76      0.76      0.76      2831\n",
      "\n",
      "    accuracy                           0.97     52659\n",
      "   macro avg       0.87      0.87      0.87     52659\n",
      "weighted avg       0.97      0.97      0.97     52659\n",
      "\n"
     ]
    },
    {
     "data": {
      "image/png": "[encoded data removed]",
      "text/plain": [
       "<Figure size 432x288 with 2 Axes>"
      ]
     },
     "metadata": {
      "needs_background": "light"
     },
     "output_type": "display_data"
    },
    {
     "name": "stdout",
     "output_type": "stream",
     "text": [
      "... Processing threat\n",
      "              precision    recall  f1-score   support\n",
      "\n",
      "         0.0       1.00      1.00      1.00     52507\n",
      "         1.0       0.33      0.29      0.31       152\n",
      "\n",
      "    accuracy                           1.00     52659\n",
      "   macro avg       0.66      0.64      0.65     52659\n",
      "weighted avg       1.00      1.00      1.00     52659\n",
      "\n"
     ]
    },
    {
     "data": {
      "image/png": "[encoded data removed]",
      "text/plain": [
       "<Figure size 432x288 with 2 Axes>"
      ]
     },
     "metadata": {
      "needs_background": "light"
     },
     "output_type": "display_data"
    },
    {
     "name": "stdout",
     "output_type": "stream",
     "text": [
      "... Processing insult\n",
      "              precision    recall  f1-score   support\n",
      "\n",
      "         0.0       0.98      0.98      0.98     50016\n",
      "         1.0       0.63      0.61      0.62      2643\n",
      "\n",
      "    accuracy                           0.96     52659\n",
      "   macro avg       0.80      0.80      0.80     52659\n",
      "weighted avg       0.96      0.96      0.96     52659\n",
      "\n"
     ]
    },
    {
     "data": {
      "image/png": "[encoded data removed]",
      "text/plain": [
       "<Figure size 432x288 with 2 Axes>"
      ]
     },
     "metadata": {
      "needs_background": "light"
     },
     "output_type": "display_data"
    },
    {
     "name": "stdout",
     "output_type": "stream",
     "text": [
      "... Processing identity_hate\n",
      "              precision    recall  f1-score   support\n",
      "\n",
      "         0.0       0.99      1.00      1.00     52188\n",
      "         1.0       0.45      0.36      0.40       471\n",
      "\n",
      "    accuracy                           0.99     52659\n",
      "   macro avg       0.72      0.68      0.70     52659\n",
      "weighted avg       0.99      0.99      0.99     52659\n",
      "\n"
     ]
    },
    {
     "data": {
      "image/png": "[encoded data removed]",
      "text/plain": [
       "<Figure size 432x288 with 2 Axes>"
      ]
     },
     "metadata": {
      "needs_background": "light"
     },
     "output_type": "display_data"
    }
   ],
   "source": [
    "# Decision Tree pipeline\n",
    "DT_pipeline = Pipeline([\n",
    "                ('tfidf', TfidfVectorizer(stop_words=stop_words)),\n",
    "                ('clf', OneVsRestClassifier(DecisionTreeClassifier())),\n",
    "            ])\n",
    "\n",
    "dt_train_accuracy = []\n",
    "dt_train_score_list = []\n",
    "\n",
    "dt_test_accuracy = []\n",
    "dt_score_list = []\n",
    "for category in categories:\n",
    "    print('... Processing {}'.format(category))\n",
    "    # train the model using X_dtm & y\n",
    "    DT_pipeline.fit(X_train, train[category])\n",
    "    \n",
    "    # compute the training accuracy\n",
    "    pred_train = DT_pipeline.predict(X_train)\n",
    "    dt_train_accuracy.append(accuracy_score(train[category], pred_train))\n",
    "    dt_train_score = f1_score(train[category], pred_train)\n",
    "    dt_train_score_list.append(dt_train_score)\n",
    "    \n",
    "    # compute the testing accuracy\n",
    "    prediction = DT_pipeline.predict(X_test)\n",
    "    dt_test_accuracy.append(accuracy_score(test[category], prediction))\n",
    "    score= f1_score(test[category], prediction)\n",
    "    dt_score_list.append(score)\n",
    "    cm = confusion_matrix(test[category], prediction)\n",
    "    disp = ConfusionMatrixDisplay(confusion_matrix=cm)\n",
    "    disp.plot()\n",
    "    print(classification_report(test[category], prediction))\n",
    "    plt.show()\n",
    "df_metrics_dt = pd.DataFrame(list(zip(dt_test_accuracy, dt_score_list)),\n",
    "               columns =['Test Accuracy', 'F1 Score'])\n",
    "df_train_metrics_dt = pd.DataFrame(list(zip(dt_train_accuracy, dt_train_score_list)),\n",
    "               columns =['Train Accuracy', 'F1 Score'])"
   ]
  },
  {
   "cell_type": "code",
   "execution_count": 110,
   "id": "9551a993-56c0-404f-a72e-f37423022af5",
   "metadata": {},
   "outputs": [
    {
     "name": "stdout",
     "output_type": "stream",
     "text": [
      "   Train Accuracy  F1 Score\n",
      "0        0.999710  0.998480\n",
      "1        0.999645  0.981956\n",
      "2        0.999673  0.996878\n",
      "3        0.999935  0.989214\n",
      "4        0.999448  0.994350\n",
      "5        0.999869  0.992457\n"
     ]
    }
   ],
   "source": [
    "# DT train score\n",
    "print(df_train_metrics_dt)"
   ]
  },
  {
   "cell_type": "code",
   "execution_count": 111,
   "id": "d5c945c2-4522-4780-9133-3758d1c5eb91",
   "metadata": {},
   "outputs": [
    {
     "name": "stdout",
     "output_type": "stream",
     "text": [
      "   Test Accuracy  F1 Score\n",
      "0       0.940808  0.691722\n",
      "1       0.987372  0.300736\n",
      "2       0.973775  0.756222\n",
      "3       0.996240  0.307692\n",
      "4       0.962476  0.620146\n",
      "5       0.990296  0.398115\n"
     ]
    }
   ],
   "source": [
    "# DT test score\n",
    "print(df_metrics_dt)"
   ]
  },
  {
   "cell_type": "markdown",
   "id": "68715043-61e9-46ff-9434-6377789fa544",
   "metadata": {},
   "source": [
    "#### 3.4 Logistic Regression"
   ]
  },
  {
   "cell_type": "code",
   "execution_count": 112,
   "id": "f49dc3d8-bd1d-4844-8315-5ef6ef182f49",
   "metadata": {},
   "outputs": [
    {
     "name": "stdout",
     "output_type": "stream",
     "text": [
      "... Processing toxic\n",
      "              precision    recall  f1-score   support\n",
      "\n",
      "         0.0       0.96      0.99      0.98     47576\n",
      "         1.0       0.91      0.61      0.73      5083\n",
      "\n",
      "    accuracy                           0.96     52659\n",
      "   macro avg       0.94      0.80      0.85     52659\n",
      "weighted avg       0.96      0.96      0.95     52659\n",
      "\n"
     ]
    },
    {
     "data": {
      "image/png": "[encoded data removed]",
      "text/plain": [
       "<Figure size 432x288 with 2 Axes>"
      ]
     },
     "metadata": {
      "needs_background": "light"
     },
     "output_type": "display_data"
    },
    {
     "name": "stdout",
     "output_type": "stream",
     "text": [
      "... Processing severe_toxic\n",
      "              precision    recall  f1-score   support\n",
      "\n",
      "         0.0       0.99      1.00      1.00     52133\n",
      "         1.0       0.56      0.28      0.37       526\n",
      "\n",
      "    accuracy                           0.99     52659\n",
      "   macro avg       0.78      0.64      0.68     52659\n",
      "weighted avg       0.99      0.99      0.99     52659\n",
      "\n"
     ]
    },
    {
     "data": {
      "image/png": "[encoded data removed]",
      "text/plain": [
       "<Figure size 432x288 with 2 Axes>"
      ]
     },
     "metadata": {
      "needs_background": "light"
     },
     "output_type": "display_data"
    },
    {
     "name": "stdout",
     "output_type": "stream",
     "text": [
      "... Processing obscene\n",
      "              precision    recall  f1-score   support\n",
      "\n",
      "         0.0       0.98      1.00      0.99     49828\n",
      "         1.0       0.91      0.67      0.77      2831\n",
      "\n",
      "    accuracy                           0.98     52659\n",
      "   macro avg       0.95      0.83      0.88     52659\n",
      "weighted avg       0.98      0.98      0.98     52659\n",
      "\n"
     ]
    },
    {
     "data": {
      "image/png": "[encoded data removed]",
      "text/plain": [
       "<Figure size 432x288 with 2 Axes>"
      ]
     },
     "metadata": {
      "needs_background": "light"
     },
     "output_type": "display_data"
    },
    {
     "name": "stdout",
     "output_type": "stream",
     "text": [
      "... Processing threat\n",
      "              precision    recall  f1-score   support\n",
      "\n",
      "         0.0       1.00      1.00      1.00     52507\n",
      "         1.0       0.76      0.17      0.28       152\n",
      "\n",
      "    accuracy                           1.00     52659\n",
      "   macro avg       0.88      0.59      0.64     52659\n",
      "weighted avg       1.00      1.00      1.00     52659\n",
      "\n"
     ]
    },
    {
     "data": {
      "image/png": "[encoded data removed]",
      "text/plain": [
       "<Figure size 432x288 with 2 Axes>"
      ]
     },
     "metadata": {
      "needs_background": "light"
     },
     "output_type": "display_data"
    },
    {
     "name": "stdout",
     "output_type": "stream",
     "text": [
      "... Processing insult\n",
      "              precision    recall  f1-score   support\n",
      "\n",
      "         0.0       0.98      0.99      0.98     50016\n",
      "         1.0       0.82      0.52      0.64      2643\n",
      "\n",
      "    accuracy                           0.97     52659\n",
      "   macro avg       0.90      0.76      0.81     52659\n",
      "weighted avg       0.97      0.97      0.97     52659\n",
      "\n"
     ]
    },
    {
     "data": {
      "image/png": "[encoded data removed]",
      "text/plain": [
       "<Figure size 432x288 with 2 Axes>"
      ]
     },
     "metadata": {
      "needs_background": "light"
     },
     "output_type": "display_data"
    },
    {
     "name": "stdout",
     "output_type": "stream",
     "text": [
      "... Processing identity_hate\n",
      "              precision    recall  f1-score   support\n",
      "\n",
      "         0.0       0.99      1.00      1.00     52188\n",
      "         1.0       0.69      0.19      0.29       471\n",
      "\n",
      "    accuracy                           0.99     52659\n",
      "   macro avg       0.84      0.59      0.65     52659\n",
      "weighted avg       0.99      0.99      0.99     52659\n",
      "\n"
     ]
    },
    {
     "data": {
      "image/png": "[encoded data removed]",
      "text/plain": [
       "<Figure size 432x288 with 2 Axes>"
      ]
     },
     "metadata": {
      "needs_background": "light"
     },
     "output_type": "display_data"
    }
   ],
   "source": [
    "# Logistic Regression Pipeline\n",
    "LogReg_pipeline = Pipeline([\n",
    "                ('tfidf', TfidfVectorizer(stop_words=stop_words)),\n",
    "                ('clf', OneVsRestClassifier(LogisticRegression(solver='sag'), n_jobs=1)),\n",
    "            ])\n",
    "lgr_train_accuracy =[]\n",
    "lgr_train_score_list = []\n",
    "\n",
    "lgr_test_accuracy = []\n",
    "lgr_score_list = []\n",
    "for category in categories:\n",
    "    print('... Processing {}'.format(category))\n",
    "    # train the model using X_dtm & y\n",
    "    LogReg_pipeline.fit(X_train, train[category])\n",
    "    \n",
    "    # compute the training accuracy\n",
    "    pred_train = LogReg_pipeline.predict(X_train)\n",
    "    lgr_train_accuracy.append(accuracy_score(train[category], pred_train))\n",
    "    lgr_train_score = f1_score(train[category], pred_train)\n",
    "    lgr_train_score_list.append(lgr_train_score)\n",
    "    \n",
    "    # compute the testing accuracy\n",
    "    prediction = LogReg_pipeline.predict(X_test)\n",
    "    lgr_test_accuracy.append(accuracy_score(test[category], prediction))\n",
    "    score= f1_score(test[category], prediction)\n",
    "    lgr_score_list.append(score)\n",
    "    cm = confusion_matrix(test[category], prediction)\n",
    "    disp = ConfusionMatrixDisplay(confusion_matrix=cm)\n",
    "    disp.plot()\n",
    "    print(classification_report(test[category], prediction))\n",
    "    plt.show()\n",
    "df_metrics_logre = pd.DataFrame(list(zip(lgr_test_accuracy, lgr_score_list)),\n",
    "               columns =['Test Accuracy', 'F1 Score']) \n",
    "df_train_metrics_lgr = pd.DataFrame(list(zip(lgr_train_accuracy, lgr_train_score_list)),\n",
    "               columns =['Train Accuracy', 'F1 Score'])"
   ]
  },
  {
   "cell_type": "code",
   "execution_count": 113,
   "id": "ad514cb8-a332-40de-81b1-6571a78f72e6",
   "metadata": {},
   "outputs": [
    {
     "name": "stdout",
     "output_type": "stream",
     "text": [
      "   Train Accuracy  F1 Score\n",
      "0        0.962521  0.767103\n",
      "1        0.991067  0.392880\n",
      "2        0.981031  0.794028\n",
      "3        0.997157  0.182796\n",
      "4        0.973548  0.673667\n",
      "5        0.992508  0.322908\n"
     ]
    }
   ],
   "source": [
    "# Log Reg train score\n",
    "print(df_train_metrics_lgr)"
   ]
  },
  {
   "cell_type": "code",
   "execution_count": 114,
   "id": "eb103b8b-e104-4169-99ba-2f82e07f19bd",
   "metadata": {},
   "outputs": [
    {
     "name": "stdout",
     "output_type": "stream",
     "text": [
      "   Test Accuracy  F1 Score\n",
      "0       0.956703  0.730624\n",
      "1       0.990619  0.373096\n",
      "2       0.978484  0.768728\n",
      "3       0.997455  0.279570\n",
      "4       0.970110  0.636993\n",
      "5       0.991986  0.294314\n"
     ]
    }
   ],
   "source": [
    "# Log Reg. test score\n",
    "print(df_metrics_logre)"
   ]
  },
  {
   "cell_type": "markdown",
   "id": "29671ad8-5865-4e8e-bfa4-0a23b7838e4a",
   "metadata": {},
   "source": [
    "#### 3.5 RandomForest"
   ]
  },
  {
   "cell_type": "code",
   "execution_count": 115,
   "id": "79a2e567-76ff-4b7a-96a8-956c15e93336",
   "metadata": {},
   "outputs": [
    {
     "name": "stdout",
     "output_type": "stream",
     "text": [
      "... Processing toxic\n",
      "              precision    recall  f1-score   support\n",
      "\n",
      "         0.0       0.96      0.99      0.98     47576\n",
      "         1.0       0.91      0.60      0.72      5083\n",
      "\n",
      "    accuracy                           0.96     52659\n",
      "   macro avg       0.93      0.79      0.85     52659\n",
      "weighted avg       0.95      0.96      0.95     52659\n",
      "\n"
     ]
    },
    {
     "data": {
      "image/png": "[encoded data removed]",
      "text/plain": [
       "<Figure size 432x288 with 2 Axes>"
      ]
     },
     "metadata": {
      "needs_background": "light"
     },
     "output_type": "display_data"
    },
    {
     "name": "stdout",
     "output_type": "stream",
     "text": [
      "... Processing severe_toxic\n",
      "              precision    recall  f1-score   support\n",
      "\n",
      "         0.0       0.99      1.00      0.99     52133\n",
      "         1.0       0.46      0.06      0.10       526\n",
      "\n",
      "    accuracy                           0.99     52659\n",
      "   macro avg       0.73      0.53      0.55     52659\n",
      "weighted avg       0.99      0.99      0.99     52659\n",
      "\n"
     ]
    },
    {
     "data": {
      "image/png": "[encoded data removed]",
      "text/plain": [
       "<Figure size 432x288 with 2 Axes>"
      ]
     },
     "metadata": {
      "needs_background": "light"
     },
     "output_type": "display_data"
    },
    {
     "name": "stdout",
     "output_type": "stream",
     "text": [
      "... Processing obscene\n",
      "              precision    recall  f1-score   support\n",
      "\n",
      "         0.0       0.98      1.00      0.99     49828\n",
      "         1.0       0.89      0.67      0.77      2831\n",
      "\n",
      "    accuracy                           0.98     52659\n",
      "   macro avg       0.94      0.83      0.88     52659\n",
      "weighted avg       0.98      0.98      0.98     52659\n",
      "\n"
     ]
    },
    {
     "data": {
      "image/png": "[encoded data removed]",
      "text/plain": [
       "<Figure size 432x288 with 2 Axes>"
      ]
     },
     "metadata": {
      "needs_background": "light"
     },
     "output_type": "display_data"
    },
    {
     "name": "stdout",
     "output_type": "stream",
     "text": [
      "... Processing threat\n",
      "              precision    recall  f1-score   support\n",
      "\n",
      "         0.0       1.00      1.00      1.00     52507\n",
      "         1.0       0.60      0.06      0.11       152\n",
      "\n",
      "    accuracy                           1.00     52659\n",
      "   macro avg       0.80      0.53      0.55     52659\n",
      "weighted avg       1.00      1.00      1.00     52659\n",
      "\n"
     ]
    },
    {
     "data": {
      "image/png": "[encoded data removed]",
      "text/plain": [
       "<Figure size 432x288 with 2 Axes>"
      ]
     },
     "metadata": {
      "needs_background": "light"
     },
     "output_type": "display_data"
    },
    {
     "name": "stdout",
     "output_type": "stream",
     "text": [
      "... Processing insult\n",
      "              precision    recall  f1-score   support\n",
      "\n",
      "         0.0       0.97      0.99      0.98     50016\n",
      "         1.0       0.80      0.49      0.61      2643\n",
      "\n",
      "    accuracy                           0.97     52659\n",
      "   macro avg       0.89      0.74      0.80     52659\n",
      "weighted avg       0.97      0.97      0.96     52659\n",
      "\n"
     ]
    },
    {
     "data": {
      "image/png": "[encoded data removed]",
      "text/plain": [
       "<Figure size 432x288 with 2 Axes>"
      ]
     },
     "metadata": {
      "needs_background": "light"
     },
     "output_type": "display_data"
    },
    {
     "name": "stdout",
     "output_type": "stream",
     "text": [
      "... Processing identity_hate\n",
      "              precision    recall  f1-score   support\n",
      "\n",
      "         0.0       0.99      1.00      1.00     52188\n",
      "         1.0       0.80      0.07      0.13       471\n",
      "\n",
      "    accuracy                           0.99     52659\n",
      "   macro avg       0.90      0.53      0.56     52659\n",
      "weighted avg       0.99      0.99      0.99     52659\n",
      "\n"
     ]
    },
    {
     "data": {
      "image/png": "[encoded data removed]",
      "text/plain": [
       "<Figure size 432x288 with 2 Axes>"
      ]
     },
     "metadata": {
      "needs_background": "light"
     },
     "output_type": "display_data"
    }
   ],
   "source": [
    "# RandomForest Pipeline\n",
    "RandomForest_pipeline = Pipeline([\n",
    "                ('tfidf', TfidfVectorizer(stop_words=stop_words)),\n",
    "                ('clf', OneVsRestClassifier(RandomForestClassifier(), n_jobs=1)),\n",
    "            ])\n",
    "rf_train_accuracy = []\n",
    "rf_train_score_list = []\n",
    "\n",
    "rf_test_accuracy = []\n",
    "rf_score_list = []\n",
    "for category in categories:\n",
    "    print('... Processing {}'.format(category))\n",
    "    # train the model using X_dtm & y\n",
    "    RandomForest_pipeline.fit(X_train, train[category])\n",
    "    \n",
    "    # compute the training accuracy\n",
    "    pred_train = RandomForest_pipeline.predict(X_train)\n",
    "    rf_train_accuracy.append(accuracy_score(train[category], pred_train))\n",
    "    rf_train_score = f1_score(train[category], pred_train)\n",
    "    rf_train_score_list.append(rf_train_score)\n",
    "    \n",
    "    # compute the testing accuracy\n",
    "    prediction = RandomForest_pipeline.predict(X_test)\n",
    "    rf_test_accuracy.append(accuracy_score(test[category], prediction))\n",
    "    score= f1_score(test[category], prediction)\n",
    "    rf_score_list.append(score)\n",
    "    cm = confusion_matrix(test[category], prediction)\n",
    "    disp = ConfusionMatrixDisplay(confusion_matrix=cm)\n",
    "    disp.plot()\n",
    "    print(classification_report(test[category], prediction))\n",
    "    plt.show()\n",
    "df_metrics_rf = pd.DataFrame(list(zip(rf_test_accuracy, rf_score_list)),\n",
    "               columns =['Test Accuracy', 'F1 Score'])\n",
    "df_train_metrics_rf = pd.DataFrame(list(zip(rf_train_accuracy, rf_train_score_list)),\n",
    "               columns =['Train Accuracy', 'F1 Score'])"
   ]
  },
  {
   "cell_type": "code",
   "execution_count": 116,
   "id": "d7c74f87-b281-4c7b-8456-7e2dc8d1c31d",
   "metadata": {},
   "outputs": [
    {
     "name": "stdout",
     "output_type": "stream",
     "text": [
      "   Train Accuracy  F1 Score\n",
      "0        0.999701  0.998432\n",
      "1        0.999645  0.981991\n",
      "2        0.999663  0.996791\n",
      "3        0.999935  0.989214\n",
      "4        0.999448  0.994365\n",
      "5        0.999869  0.992481\n"
     ]
    }
   ],
   "source": [
    "# RF train score\n",
    "print(df_train_metrics_rf)"
   ]
  },
  {
   "cell_type": "code",
   "execution_count": 117,
   "id": "7ff4f5f0-3d8d-41f4-8518-9241f427e6d8",
   "metadata": {},
   "outputs": [
    {
     "name": "stdout",
     "output_type": "stream",
     "text": [
      "   Test Accuracy  F1 Score\n",
      "0       0.955183  0.719715\n",
      "1       0.989916  0.101523\n",
      "2       0.978047  0.766559\n",
      "3       0.997170  0.107784\n",
      "4       0.968495  0.611930\n",
      "5       0.991530  0.128906\n"
     ]
    }
   ],
   "source": [
    "# RF test score\n",
    "print(df_metrics_rf)"
   ]
  },
  {
   "cell_type": "markdown",
   "id": "46049ef4-145b-4c38-bf67-a4a33eb8fda9",
   "metadata": {},
   "source": [
    "### 4. Final prediction"
   ]
  },
  {
   "cell_type": "code",
   "execution_count": 118,
   "id": "f8938d40-10c9-48e3-bad9-67d34732d4b6",
   "metadata": {},
   "outputs": [
    {
     "data": {
      "text/html": [
       "<div>\n",
       "<style scoped>\n",
       "    .dataframe tbody tr th:only-of-type {\n",
       "        vertical-align: middle;\n",
       "    }\n",
       "\n",
       "    .dataframe tbody tr th {\n",
       "        vertical-align: top;\n",
       "    }\n",
       "\n",
       "    .dataframe thead th {\n",
       "        text-align: right;\n",
       "    }\n",
       "</style>\n",
       "<table border=\"1\" class=\"dataframe\">\n",
       "  <thead>\n",
       "    <tr style=\"text-align: right;\">\n",
       "      <th></th>\n",
       "      <th>comment_text</th>\n",
       "      <th>id</th>\n",
       "      <th>identity_hate</th>\n",
       "      <th>insult</th>\n",
       "      <th>obscene</th>\n",
       "      <th>set</th>\n",
       "      <th>severe_toxic</th>\n",
       "      <th>threat</th>\n",
       "      <th>toxic</th>\n",
       "      <th>toxicity</th>\n",
       "    </tr>\n",
       "  </thead>\n",
       "  <tbody>\n",
       "    <tr>\n",
       "      <th>0</th>\n",
       "      <td>yo bitch ja rule is more succesful then you ll...</td>\n",
       "      <td>00001cee341fdb12</td>\n",
       "      <td>NaN</td>\n",
       "      <td>NaN</td>\n",
       "      <td>NaN</td>\n",
       "      <td>test</td>\n",
       "      <td>NaN</td>\n",
       "      <td>NaN</td>\n",
       "      <td>NaN</td>\n",
       "      <td>NaN</td>\n",
       "    </tr>\n",
       "    <tr>\n",
       "      <th>1</th>\n",
       "      <td>from rfc the title is fine as it is  imo</td>\n",
       "      <td>0000247867823ef7</td>\n",
       "      <td>NaN</td>\n",
       "      <td>NaN</td>\n",
       "      <td>NaN</td>\n",
       "      <td>test</td>\n",
       "      <td>NaN</td>\n",
       "      <td>NaN</td>\n",
       "      <td>NaN</td>\n",
       "      <td>NaN</td>\n",
       "    </tr>\n",
       "    <tr>\n",
       "      <th>2</th>\n",
       "      <td>sources zawe ashton on lapland</td>\n",
       "      <td>00013b17ad220c46</td>\n",
       "      <td>NaN</td>\n",
       "      <td>NaN</td>\n",
       "      <td>NaN</td>\n",
       "      <td>test</td>\n",
       "      <td>NaN</td>\n",
       "      <td>NaN</td>\n",
       "      <td>NaN</td>\n",
       "      <td>NaN</td>\n",
       "    </tr>\n",
       "    <tr>\n",
       "      <th>3</th>\n",
       "      <td>if you have a look back at the source  the in...</td>\n",
       "      <td>00017563c3f7919a</td>\n",
       "      <td>NaN</td>\n",
       "      <td>NaN</td>\n",
       "      <td>NaN</td>\n",
       "      <td>test</td>\n",
       "      <td>NaN</td>\n",
       "      <td>NaN</td>\n",
       "      <td>NaN</td>\n",
       "      <td>NaN</td>\n",
       "    </tr>\n",
       "    <tr>\n",
       "      <th>4</th>\n",
       "      <td>i don t anonymously edit articles at all</td>\n",
       "      <td>00017695ad8997eb</td>\n",
       "      <td>NaN</td>\n",
       "      <td>NaN</td>\n",
       "      <td>NaN</td>\n",
       "      <td>test</td>\n",
       "      <td>NaN</td>\n",
       "      <td>NaN</td>\n",
       "      <td>NaN</td>\n",
       "      <td>NaN</td>\n",
       "    </tr>\n",
       "  </tbody>\n",
       "</table>\n",
       "</div>"
      ],
      "text/plain": [
       "                                        comment_text                id  \\\n",
       "0  yo bitch ja rule is more succesful then you ll...  00001cee341fdb12   \n",
       "1          from rfc the title is fine as it is  imo   0000247867823ef7   \n",
       "2                    sources zawe ashton on lapland   00013b17ad220c46   \n",
       "3   if you have a look back at the source  the in...  00017563c3f7919a   \n",
       "4          i don t anonymously edit articles at all   00017695ad8997eb   \n",
       "\n",
       "   identity_hate  insult  obscene   set  severe_toxic  threat  toxic  toxicity  \n",
       "0            NaN     NaN      NaN  test           NaN     NaN    NaN       NaN  \n",
       "1            NaN     NaN      NaN  test           NaN     NaN    NaN       NaN  \n",
       "2            NaN     NaN      NaN  test           NaN     NaN    NaN       NaN  \n",
       "3            NaN     NaN      NaN  test           NaN     NaN    NaN       NaN  \n",
       "4            NaN     NaN      NaN  test           NaN     NaN    NaN       NaN  "
      ]
     },
     "execution_count": 118,
     "metadata": {},
     "output_type": "execute_result"
    }
   ],
   "source": [
    "df_test.head()"
   ]
  },
  {
   "cell_type": "code",
   "execution_count": 119,
   "id": "0895b2ba-ab41-457d-9689-d9c2fee9bcae",
   "metadata": {},
   "outputs": [],
   "source": [
    "df_test = df_test.drop(['id','set','toxicity'], axis=1)"
   ]
  },
  {
   "cell_type": "code",
   "execution_count": 120,
   "id": "796f83e8-8235-4652-aa42-fdb4f48a38dd",
   "metadata": {},
   "outputs": [
    {
     "name": "stdout",
     "output_type": "stream",
     "text": [
      "15\n"
     ]
    }
   ],
   "source": [
    "print(np.sum(df_test.comment_text.isnull()))"
   ]
  },
  {
   "cell_type": "code",
   "execution_count": 121,
   "id": "17b4b22d-8c21-42b8-a964-f3b3e210aa54",
   "metadata": {},
   "outputs": [],
   "source": [
    "df_final = df_test.dropna(subset=['comment_text'])"
   ]
  },
  {
   "cell_type": "code",
   "execution_count": 122,
   "id": "cfe9a391-f920-47a8-9c4e-730afc43192e",
   "metadata": {},
   "outputs": [
    {
     "name": "stdout",
     "output_type": "stream",
     "text": [
      "0\n"
     ]
    }
   ],
   "source": [
    "print(np.sum(df_final.comment_text.isnull()))"
   ]
  },
  {
   "cell_type": "code",
   "execution_count": 123,
   "id": "d0f09f5c-d837-4a10-9762-04c040da0e8c",
   "metadata": {},
   "outputs": [],
   "source": [
    "df_final_cls = df_final.copy(deep=True)"
   ]
  },
  {
   "cell_type": "code",
   "execution_count": 124,
   "id": "6cdc09f3-d0eb-42ff-bf58-6c09977a33e5",
   "metadata": {},
   "outputs": [],
   "source": [
    "y_preds_proba = LogReg_pipeline.predict_proba(df_final.comment_text)"
   ]
  },
  {
   "cell_type": "code",
   "execution_count": 125,
   "id": "26c25c5f-f3f8-484a-98cc-442b09a0f3d8",
   "metadata": {},
   "outputs": [
    {
     "name": "stdout",
     "output_type": "stream",
     "text": [
      "[[0.84420976 0.15579024]\n",
      " [0.99620335 0.00379665]\n",
      " [0.99530504 0.00469496]\n",
      " ...\n",
      " [0.99837303 0.00162697]\n",
      " [0.98898577 0.01101423]\n",
      " [0.98765679 0.01234321]]\n"
     ]
    }
   ],
   "source": [
    "print(y_preds_proba)"
   ]
  },
  {
   "cell_type": "code",
   "execution_count": 126,
   "id": "8a073876-4c7f-435c-ab50-c4d740b3bcb2",
   "metadata": {},
   "outputs": [],
   "source": [
    "y_preds = LogReg_pipeline.predict(df_final_cls.comment_text)"
   ]
  },
  {
   "cell_type": "code",
   "execution_count": 127,
   "id": "6786b813-6506-4842-8738-36d3fcb4b6e3",
   "metadata": {},
   "outputs": [
    {
     "name": "stdout",
     "output_type": "stream",
     "text": [
      "[0. 0. 0. ... 0. 0. 0.]\n"
     ]
    }
   ],
   "source": [
    "print(y_preds)"
   ]
  },
  {
   "cell_type": "code",
   "execution_count": 128,
   "id": "724edd7c-d39c-4197-b1d3-949af37f5404",
   "metadata": {},
   "outputs": [],
   "source": [
    "for idx,cat in enumerate(categories):\n",
    "    df_final[cat] = y_preds_proba[:,1]\n",
    "    df_final_cls[cat] = y_preds[idx]"
   ]
  },
  {
   "cell_type": "code",
   "execution_count": 129,
   "id": "e08d042d-715a-459d-bb1a-566be7a7f43e",
   "metadata": {},
   "outputs": [
    {
     "data": {
      "text/html": [
       "<div>\n",
       "<style scoped>\n",
       "    .dataframe tbody tr th:only-of-type {\n",
       "        vertical-align: middle;\n",
       "    }\n",
       "\n",
       "    .dataframe tbody tr th {\n",
       "        vertical-align: top;\n",
       "    }\n",
       "\n",
       "    .dataframe thead th {\n",
       "        text-align: right;\n",
       "    }\n",
       "</style>\n",
       "<table border=\"1\" class=\"dataframe\">\n",
       "  <thead>\n",
       "    <tr style=\"text-align: right;\">\n",
       "      <th></th>\n",
       "      <th>comment_text</th>\n",
       "      <th>identity_hate</th>\n",
       "      <th>insult</th>\n",
       "      <th>obscene</th>\n",
       "      <th>severe_toxic</th>\n",
       "      <th>threat</th>\n",
       "      <th>toxic</th>\n",
       "    </tr>\n",
       "  </thead>\n",
       "  <tbody>\n",
       "    <tr>\n",
       "      <th>0</th>\n",
       "      <td>yo bitch ja rule is more succesful then you ll...</td>\n",
       "      <td>0.155790</td>\n",
       "      <td>0.155790</td>\n",
       "      <td>0.155790</td>\n",
       "      <td>0.155790</td>\n",
       "      <td>0.155790</td>\n",
       "      <td>0.155790</td>\n",
       "    </tr>\n",
       "    <tr>\n",
       "      <th>1</th>\n",
       "      <td>from rfc the title is fine as it is  imo</td>\n",
       "      <td>0.003797</td>\n",
       "      <td>0.003797</td>\n",
       "      <td>0.003797</td>\n",
       "      <td>0.003797</td>\n",
       "      <td>0.003797</td>\n",
       "      <td>0.003797</td>\n",
       "    </tr>\n",
       "    <tr>\n",
       "      <th>2</th>\n",
       "      <td>sources zawe ashton on lapland</td>\n",
       "      <td>0.004695</td>\n",
       "      <td>0.004695</td>\n",
       "      <td>0.004695</td>\n",
       "      <td>0.004695</td>\n",
       "      <td>0.004695</td>\n",
       "      <td>0.004695</td>\n",
       "    </tr>\n",
       "    <tr>\n",
       "      <th>3</th>\n",
       "      <td>if you have a look back at the source  the in...</td>\n",
       "      <td>0.001364</td>\n",
       "      <td>0.001364</td>\n",
       "      <td>0.001364</td>\n",
       "      <td>0.001364</td>\n",
       "      <td>0.001364</td>\n",
       "      <td>0.001364</td>\n",
       "    </tr>\n",
       "    <tr>\n",
       "      <th>4</th>\n",
       "      <td>i don t anonymously edit articles at all</td>\n",
       "      <td>0.003207</td>\n",
       "      <td>0.003207</td>\n",
       "      <td>0.003207</td>\n",
       "      <td>0.003207</td>\n",
       "      <td>0.003207</td>\n",
       "      <td>0.003207</td>\n",
       "    </tr>\n",
       "    <tr>\n",
       "      <th>5</th>\n",
       "      <td>thank you for understanding  i think very high...</td>\n",
       "      <td>0.001393</td>\n",
       "      <td>0.001393</td>\n",
       "      <td>0.001393</td>\n",
       "      <td>0.001393</td>\n",
       "      <td>0.001393</td>\n",
       "      <td>0.001393</td>\n",
       "    </tr>\n",
       "    <tr>\n",
       "      <th>6</th>\n",
       "      <td>please do not add nonsense to wikipedia  such ...</td>\n",
       "      <td>0.001024</td>\n",
       "      <td>0.001024</td>\n",
       "      <td>0.001024</td>\n",
       "      <td>0.001024</td>\n",
       "      <td>0.001024</td>\n",
       "      <td>0.001024</td>\n",
       "    </tr>\n",
       "    <tr>\n",
       "      <th>7</th>\n",
       "      <td>dear god this site is horrible</td>\n",
       "      <td>0.006255</td>\n",
       "      <td>0.006255</td>\n",
       "      <td>0.006255</td>\n",
       "      <td>0.006255</td>\n",
       "      <td>0.006255</td>\n",
       "      <td>0.006255</td>\n",
       "    </tr>\n",
       "    <tr>\n",
       "      <th>8</th>\n",
       "      <td>only a fool can believe in such numbers  the ...</td>\n",
       "      <td>0.004056</td>\n",
       "      <td>0.004056</td>\n",
       "      <td>0.004056</td>\n",
       "      <td>0.004056</td>\n",
       "      <td>0.004056</td>\n",
       "      <td>0.004056</td>\n",
       "    </tr>\n",
       "    <tr>\n",
       "      <th>9</th>\n",
       "      <td>double redirects when fixing double redirects...</td>\n",
       "      <td>0.002854</td>\n",
       "      <td>0.002854</td>\n",
       "      <td>0.002854</td>\n",
       "      <td>0.002854</td>\n",
       "      <td>0.002854</td>\n",
       "      <td>0.002854</td>\n",
       "    </tr>\n",
       "  </tbody>\n",
       "</table>\n",
       "</div>"
      ],
      "text/plain": [
       "                                        comment_text  identity_hate    insult  \\\n",
       "0  yo bitch ja rule is more succesful then you ll...       0.155790  0.155790   \n",
       "1          from rfc the title is fine as it is  imo        0.003797  0.003797   \n",
       "2                    sources zawe ashton on lapland        0.004695  0.004695   \n",
       "3   if you have a look back at the source  the in...       0.001364  0.001364   \n",
       "4          i don t anonymously edit articles at all        0.003207  0.003207   \n",
       "5  thank you for understanding  i think very high...       0.001393  0.001393   \n",
       "6  please do not add nonsense to wikipedia  such ...       0.001024  0.001024   \n",
       "7                    dear god this site is horrible        0.006255  0.006255   \n",
       "8   only a fool can believe in such numbers  the ...       0.004056  0.004056   \n",
       "9   double redirects when fixing double redirects...       0.002854  0.002854   \n",
       "\n",
       "    obscene  severe_toxic    threat     toxic  \n",
       "0  0.155790      0.155790  0.155790  0.155790  \n",
       "1  0.003797      0.003797  0.003797  0.003797  \n",
       "2  0.004695      0.004695  0.004695  0.004695  \n",
       "3  0.001364      0.001364  0.001364  0.001364  \n",
       "4  0.003207      0.003207  0.003207  0.003207  \n",
       "5  0.001393      0.001393  0.001393  0.001393  \n",
       "6  0.001024      0.001024  0.001024  0.001024  \n",
       "7  0.006255      0.006255  0.006255  0.006255  \n",
       "8  0.004056      0.004056  0.004056  0.004056  \n",
       "9  0.002854      0.002854  0.002854  0.002854  "
      ]
     },
     "execution_count": 129,
     "metadata": {},
     "output_type": "execute_result"
    }
   ],
   "source": [
    "df_final.head(10)"
   ]
  },
  {
   "cell_type": "code",
   "execution_count": 130,
   "id": "9c701032-bad1-4490-9b2b-c60d643820a5",
   "metadata": {},
   "outputs": [
    {
     "data": {
      "text/html": [
       "<div>\n",
       "<style scoped>\n",
       "    .dataframe tbody tr th:only-of-type {\n",
       "        vertical-align: middle;\n",
       "    }\n",
       "\n",
       "    .dataframe tbody tr th {\n",
       "        vertical-align: top;\n",
       "    }\n",
       "\n",
       "    .dataframe thead th {\n",
       "        text-align: right;\n",
       "    }\n",
       "</style>\n",
       "<table border=\"1\" class=\"dataframe\">\n",
       "  <thead>\n",
       "    <tr style=\"text-align: right;\">\n",
       "      <th></th>\n",
       "      <th>comment_text</th>\n",
       "      <th>identity_hate</th>\n",
       "      <th>insult</th>\n",
       "      <th>obscene</th>\n",
       "      <th>severe_toxic</th>\n",
       "      <th>threat</th>\n",
       "      <th>toxic</th>\n",
       "    </tr>\n",
       "  </thead>\n",
       "  <tbody>\n",
       "    <tr>\n",
       "      <th>0</th>\n",
       "      <td>yo bitch ja rule is more succesful then you ll...</td>\n",
       "      <td>0.0</td>\n",
       "      <td>0.0</td>\n",
       "      <td>0.0</td>\n",
       "      <td>0.0</td>\n",
       "      <td>0.0</td>\n",
       "      <td>0.0</td>\n",
       "    </tr>\n",
       "    <tr>\n",
       "      <th>1</th>\n",
       "      <td>from rfc the title is fine as it is  imo</td>\n",
       "      <td>0.0</td>\n",
       "      <td>0.0</td>\n",
       "      <td>0.0</td>\n",
       "      <td>0.0</td>\n",
       "      <td>0.0</td>\n",
       "      <td>0.0</td>\n",
       "    </tr>\n",
       "    <tr>\n",
       "      <th>2</th>\n",
       "      <td>sources zawe ashton on lapland</td>\n",
       "      <td>0.0</td>\n",
       "      <td>0.0</td>\n",
       "      <td>0.0</td>\n",
       "      <td>0.0</td>\n",
       "      <td>0.0</td>\n",
       "      <td>0.0</td>\n",
       "    </tr>\n",
       "    <tr>\n",
       "      <th>3</th>\n",
       "      <td>if you have a look back at the source  the in...</td>\n",
       "      <td>0.0</td>\n",
       "      <td>0.0</td>\n",
       "      <td>0.0</td>\n",
       "      <td>0.0</td>\n",
       "      <td>0.0</td>\n",
       "      <td>0.0</td>\n",
       "    </tr>\n",
       "    <tr>\n",
       "      <th>4</th>\n",
       "      <td>i don t anonymously edit articles at all</td>\n",
       "      <td>0.0</td>\n",
       "      <td>0.0</td>\n",
       "      <td>0.0</td>\n",
       "      <td>0.0</td>\n",
       "      <td>0.0</td>\n",
       "      <td>0.0</td>\n",
       "    </tr>\n",
       "    <tr>\n",
       "      <th>5</th>\n",
       "      <td>thank you for understanding  i think very high...</td>\n",
       "      <td>0.0</td>\n",
       "      <td>0.0</td>\n",
       "      <td>0.0</td>\n",
       "      <td>0.0</td>\n",
       "      <td>0.0</td>\n",
       "      <td>0.0</td>\n",
       "    </tr>\n",
       "    <tr>\n",
       "      <th>6</th>\n",
       "      <td>please do not add nonsense to wikipedia  such ...</td>\n",
       "      <td>0.0</td>\n",
       "      <td>0.0</td>\n",
       "      <td>0.0</td>\n",
       "      <td>0.0</td>\n",
       "      <td>0.0</td>\n",
       "      <td>0.0</td>\n",
       "    </tr>\n",
       "    <tr>\n",
       "      <th>7</th>\n",
       "      <td>dear god this site is horrible</td>\n",
       "      <td>0.0</td>\n",
       "      <td>0.0</td>\n",
       "      <td>0.0</td>\n",
       "      <td>0.0</td>\n",
       "      <td>0.0</td>\n",
       "      <td>0.0</td>\n",
       "    </tr>\n",
       "    <tr>\n",
       "      <th>8</th>\n",
       "      <td>only a fool can believe in such numbers  the ...</td>\n",
       "      <td>0.0</td>\n",
       "      <td>0.0</td>\n",
       "      <td>0.0</td>\n",
       "      <td>0.0</td>\n",
       "      <td>0.0</td>\n",
       "      <td>0.0</td>\n",
       "    </tr>\n",
       "    <tr>\n",
       "      <th>9</th>\n",
       "      <td>double redirects when fixing double redirects...</td>\n",
       "      <td>0.0</td>\n",
       "      <td>0.0</td>\n",
       "      <td>0.0</td>\n",
       "      <td>0.0</td>\n",
       "      <td>0.0</td>\n",
       "      <td>0.0</td>\n",
       "    </tr>\n",
       "  </tbody>\n",
       "</table>\n",
       "</div>"
      ],
      "text/plain": [
       "                                        comment_text  identity_hate  insult  \\\n",
       "0  yo bitch ja rule is more succesful then you ll...            0.0     0.0   \n",
       "1          from rfc the title is fine as it is  imo             0.0     0.0   \n",
       "2                    sources zawe ashton on lapland             0.0     0.0   \n",
       "3   if you have a look back at the source  the in...            0.0     0.0   \n",
       "4          i don t anonymously edit articles at all             0.0     0.0   \n",
       "5  thank you for understanding  i think very high...            0.0     0.0   \n",
       "6  please do not add nonsense to wikipedia  such ...            0.0     0.0   \n",
       "7                    dear god this site is horrible             0.0     0.0   \n",
       "8   only a fool can believe in such numbers  the ...            0.0     0.0   \n",
       "9   double redirects when fixing double redirects...            0.0     0.0   \n",
       "\n",
       "   obscene  severe_toxic  threat  toxic  \n",
       "0      0.0           0.0     0.0    0.0  \n",
       "1      0.0           0.0     0.0    0.0  \n",
       "2      0.0           0.0     0.0    0.0  \n",
       "3      0.0           0.0     0.0    0.0  \n",
       "4      0.0           0.0     0.0    0.0  \n",
       "5      0.0           0.0     0.0    0.0  \n",
       "6      0.0           0.0     0.0    0.0  \n",
       "7      0.0           0.0     0.0    0.0  \n",
       "8      0.0           0.0     0.0    0.0  \n",
       "9      0.0           0.0     0.0    0.0  "
      ]
     },
     "execution_count": 130,
     "metadata": {},
     "output_type": "execute_result"
    }
   ],
   "source": [
    "df_final_cls.head(10)"
   ]
  },
  {
   "cell_type": "code",
   "execution_count": null,
   "id": "d0306a32-d805-47d4-a4b3-9093d08be4b4",
   "metadata": {},
   "outputs": [],
   "source": []
  }
 ],
 "metadata": {
  "kernelspec": {
   "display_name": "Python 3",
   "language": "python",
   "name": "python3"
  },
  "language_info": {
   "codemirror_mode": {
    "name": "ipython",
    "version": 3
   },
   "file_extension": ".py",
   "mimetype": "text/x-python",
   "name": "python",
   "nbconvert_exporter": "python",
   "pygments_lexer": "ipython3",
   "version": "3.8.10"
  }
 },
 "nbformat": 4,
 "nbformat_minor": 5
}
